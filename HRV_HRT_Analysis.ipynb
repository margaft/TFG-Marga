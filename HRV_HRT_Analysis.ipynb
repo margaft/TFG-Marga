{
 "cells": [
  {
   "cell_type": "code",
   "execution_count": 1,
   "metadata": {},
   "outputs": [],
   "source": [
    "# Análisis HRV y HRT"
   ]
  },
  {
   "cell_type": "markdown",
   "metadata": {},
   "source": [
    "## Datos en formato DATAFRAME\n",
    "\n",
    "El primer paso es la lectura de los datos y la conversión en un dataframe de PANDAS"
   ]
  },
  {
   "cell_type": "code",
   "execution_count": 2,
   "metadata": {},
   "outputs": [
    {
     "ename": "FileNotFoundError",
     "evalue": "[Errno 2] No such file or directory: 'C:\\\\Users\\\\Margaft\\\\señal Rebeca\\\\PyCardio-master\\\\X_matrix.npy'",
     "output_type": "error",
     "traceback": [
      "\u001b[0;31m---------------------------------------------------------------------------\u001b[0m",
      "\u001b[0;31mFileNotFoundError\u001b[0m                         Traceback (most recent call last)",
      "\u001b[0;32m<ipython-input-2-89441e9b65b8>\u001b[0m in \u001b[0;36m<module>\u001b[0;34m()\u001b[0m\n\u001b[1;32m      6\u001b[0m \u001b[0;34m\u001b[0m\u001b[0m\n\u001b[1;32m      7\u001b[0m \u001b[0;34m\u001b[0m\u001b[0m\n\u001b[0;32m----> 8\u001b[0;31m \u001b[0mX_data\u001b[0m \u001b[0;34m=\u001b[0m \u001b[0mnp\u001b[0m\u001b[0;34m.\u001b[0m\u001b[0mload\u001b[0m\u001b[0;34m(\u001b[0m\u001b[0;34mr'C:\\Users\\Margaft\\señal Rebeca\\PyCardio-master\\X_matrix.npy'\u001b[0m\u001b[0;34m)\u001b[0m\u001b[0;34m\u001b[0m\u001b[0m\n\u001b[0m\u001b[1;32m      9\u001b[0m \u001b[0;31m#X_data = np.load('X_matrix.npy')\u001b[0m\u001b[0;34m\u001b[0m\u001b[0;34m\u001b[0m\u001b[0m\n\u001b[1;32m     10\u001b[0m \u001b[0;34m\u001b[0m\u001b[0m\n",
      "\u001b[0;32m~/anaconda/envs/py3/lib/python3.6/site-packages/numpy/lib/npyio.py\u001b[0m in \u001b[0;36mload\u001b[0;34m(file, mmap_mode, allow_pickle, fix_imports, encoding)\u001b[0m\n\u001b[1;32m    370\u001b[0m     \u001b[0mown_fid\u001b[0m \u001b[0;34m=\u001b[0m \u001b[0;32mFalse\u001b[0m\u001b[0;34m\u001b[0m\u001b[0m\n\u001b[1;32m    371\u001b[0m     \u001b[0;32mif\u001b[0m \u001b[0misinstance\u001b[0m\u001b[0;34m(\u001b[0m\u001b[0mfile\u001b[0m\u001b[0;34m,\u001b[0m \u001b[0mbasestring\u001b[0m\u001b[0;34m)\u001b[0m\u001b[0;34m:\u001b[0m\u001b[0;34m\u001b[0m\u001b[0m\n\u001b[0;32m--> 372\u001b[0;31m         \u001b[0mfid\u001b[0m \u001b[0;34m=\u001b[0m \u001b[0mopen\u001b[0m\u001b[0;34m(\u001b[0m\u001b[0mfile\u001b[0m\u001b[0;34m,\u001b[0m \u001b[0;34m\"rb\"\u001b[0m\u001b[0;34m)\u001b[0m\u001b[0;34m\u001b[0m\u001b[0m\n\u001b[0m\u001b[1;32m    373\u001b[0m         \u001b[0mown_fid\u001b[0m \u001b[0;34m=\u001b[0m \u001b[0;32mTrue\u001b[0m\u001b[0;34m\u001b[0m\u001b[0m\n\u001b[1;32m    374\u001b[0m     \u001b[0;32melif\u001b[0m \u001b[0mis_pathlib_path\u001b[0m\u001b[0;34m(\u001b[0m\u001b[0mfile\u001b[0m\u001b[0;34m)\u001b[0m\u001b[0;34m:\u001b[0m\u001b[0;34m\u001b[0m\u001b[0m\n",
      "\u001b[0;31mFileNotFoundError\u001b[0m: [Errno 2] No such file or directory: 'C:\\\\Users\\\\Margaft\\\\señal Rebeca\\\\PyCardio-master\\\\X_matrix.npy'"
     ]
    }
   ],
   "source": [
    "#read data\n",
    "%matplotlib inline\n",
    "import matplotlib.pyplot as plt\n",
    "import numpy as np\n",
    "import pandas as pd\n",
    "\n",
    "\n",
    "X_data = np.load(r'C:\\Users\\Margaft\\señal Rebeca\\PyCardio-master\\X_matrix.npy')\n",
    "#X_data = np.load('X_matrix.npy')\n",
    "\n",
    "#no borres esta línea de arriba, te he añadido la línea para que puedas llamar desde tu ordenador a los datos\n",
    "#y vamos comentando y descomentando.\n",
    "\n",
    "#X_data = np.load(r'C:\\Users\\Margaft\\señal Rebeca\\PyCardio-master\\X_matrix.npy')\n",
    "\n",
    "#labels: id, name, Ptot, Pulf, Pvlf, Plf, Phf, lfhf_ratio, scl, ci, cp, to, ts, to_average, ts_average \n",
    "\n",
    "labels = ['id', 'name', 'Ptot', 'Pulf', 'Pvlf', 'Plf', 'Phf', 'lfhf_ratio', 'scl', 'ci', 'cp', 'to', 'ts', 'to_average', 'ts_average']\n",
    "    \n",
    "#convert into pandas\n",
    "\n",
    "df = pd.DataFrame(data = X_data,columns = labels)\n",
    "\n",
    "#change datatypes\n",
    "\n",
    "df[labels[2:]] = df[labels[2:]].apply(pd.to_numeric)\n"
   ]
  },
  {
   "cell_type": "markdown",
   "metadata": {},
   "source": [
    "Mostramos las 5 primeras filas del dataframe."
   ]
  },
  {
   "cell_type": "code",
   "execution_count": null,
   "metadata": {},
   "outputs": [],
   "source": [
    "df.head()"
   ]
  },
  {
   "cell_type": "markdown",
   "metadata": {},
   "source": [
    "Obtenemos un resumen del dataframe. Una de las cosas que podemos apreciar es que tenemos 1095 datos."
   ]
  },
  {
   "cell_type": "code",
   "execution_count": null,
   "metadata": {},
   "outputs": [],
   "source": [
    "df.describe()"
   ]
  },
  {
   "cell_type": "markdown",
   "metadata": {},
   "source": [
    "### Estructura de la matriz\n",
    "\n",
    "Vamos a entender la estructura de la matriz de datos. Cada fila de la matriz corresponde la ocurrencia de un VPC-tachogram dentro de un Holter de 24 horas. Como estamos estudiando los VPC-tachogram aislados, podemos tener más de un VPC-tachogram que pertenezca al mismo paciente.\n",
    "\n",
    "Las columnas representan las características de cada VPC-tachogram individual:\n",
    " * *id* **Identificador de paciente**. Cada paciente en la base de datos tiene un identificador numérico. \n",
    " * *name* **Identificador de paciente - nombre**. Este es un identificador de paciente con iniciales. Lo vamos a eliminar por seguridad.\n",
    " * *Ptot* Potencia total de las señal de intervalos RR en los 3 minutos previos. Mide la potencia de la señal de variabilidad.\n",
    " * *Pulf* Potencia en la banda de *ultra low frequency*. Esta banda no tiene sentido en 3 minutos.\n",
    " * *Pvlf* Potencia en la banda de *very low frequency*.\n",
    " * *Plf* Potencia en la banda de *low frequency*.\n",
    " * *Phf* Potencia en la banda de *high frequency*.\n",
    " * *lfhf_ratio* Ratio de potencias lf/hf\n",
    " * *scl* **Sinus cardiac length** corresponde al promedio de los 3 intervalos RR previos al VPC. Mide el ritmo cardiaco al que se encuentra el paciente cuando se produce el VPC.\n",
    " * *ci* **Coupling interval** corresponde al intervalo RR del latido VPC.\n",
    " * *cp* **Compensatory Pause** corresponde a la pausa compensatoria, esto es, el intervalo RR justo des pués del VPC.\n",
    " * *to* **Turbulence Onset** corresponde al parámetro TO, calculado sobre el VPC-tachogram individual en cuestión.\n",
    " * *ts* **Turbulence Slope** corresponde al parámetro TS, calculado sobre el VPC-tachogram individual en cuestión.\n",
    " * *to_average* **Turbulence Onset** corresponde al parámetro TO, calculado sobre el VPC-tachogram promedio para el paciente. Debe ser igual para todos las filas de la matriz que correspondan a un mismo paciente.\n",
    " * *ts_average* **Turbulence Slope** corresponde al parámetro TS, calculado sobre el VPC-tachogram promedio para el paciente. Debe ser igual para todos las filas de la matriz que correspondan a un mismo paciente."
   ]
  },
  {
   "cell_type": "code",
   "execution_count": null,
   "metadata": {},
   "outputs": [],
   "source": [
    "#remove name col\n",
    "\n",
    "df.drop(labels = ['name'],axis = 1,inplace = True)"
   ]
  },
  {
   "cell_type": "code",
   "execution_count": null,
   "metadata": {},
   "outputs": [],
   "source": [
    "df.describe()"
   ]
  },
  {
   "cell_type": "markdown",
   "metadata": {},
   "source": [
    "## Análisis exploratorio de cada una de las variables\n",
    "\n",
    "En primer lugar vamos a realizar un pequeño análisis de cada una de las variables por separado. De esta forma, tendremos una idea de cuál es la distribución de valores de los diferentes parámetros.\n",
    "\n",
    "#### Distribución de Ptot"
   ]
  },
  {
   "cell_type": "code",
   "execution_count": null,
   "metadata": {},
   "outputs": [],
   "source": [
    "#Pintamos el histograma\n",
    "\n",
    "df[df['Ptot']<2000].hist(column = 'Ptot', bins = 50)"
   ]
  },
  {
   "cell_type": "markdown",
   "metadata": {},
   "source": [
    "#### Distribución de Pvlf\n"
   ]
  },
  {
   "cell_type": "code",
   "execution_count": null,
   "metadata": {},
   "outputs": [],
   "source": [
    "df.hist(column = 'Pvlf',bins = 50)"
   ]
  },
  {
   "cell_type": "markdown",
   "metadata": {},
   "source": [
    "## TO DO\n",
    "\n",
    "Repetir los gráficos para cada una de las variables. Hacer algún comentario sobre cada una de ellas"
   ]
  },
  {
   "cell_type": "code",
   "execution_count": null,
   "metadata": {},
   "outputs": [],
   "source": [
    "df.hist(column = 'Pulf')"
   ]
  },
  {
   "cell_type": "markdown",
   "metadata": {},
   "source": [
    "Aquí hay que notar que todos los valores son 0. Esto tiene sentido, pues es banda carece de esentido en un segemento de intervalos RR de duración 3 minutos."
   ]
  },
  {
   "cell_type": "markdown",
   "metadata": {},
   "source": [
    "#### Potencia en banda LF"
   ]
  },
  {
   "cell_type": "code",
   "execution_count": null,
   "metadata": {},
   "outputs": [],
   "source": [
    "df.hist(column = 'Plf',bins =100)"
   ]
  },
  {
   "cell_type": "markdown",
   "metadata": {},
   "source": [
    "#### Potencia en banda HF"
   ]
  },
  {
   "cell_type": "code",
   "execution_count": null,
   "metadata": {},
   "outputs": [],
   "source": [
    "df.hist(column = 'Phf')"
   ]
  },
  {
   "cell_type": "markdown",
   "metadata": {},
   "source": [
    "#### Ratio LF/HF"
   ]
  },
  {
   "cell_type": "code",
   "execution_count": null,
   "metadata": {},
   "outputs": [],
   "source": [
    "df.hist(column = 'lfhf_ratio')"
   ]
  },
  {
   "cell_type": "markdown",
   "metadata": {},
   "source": [
    "#### SCL antes del VPC"
   ]
  },
  {
   "cell_type": "code",
   "execution_count": null,
   "metadata": {},
   "outputs": [],
   "source": [
    "df.hist(column = 'scl')"
   ]
  },
  {
   "cell_type": "markdown",
   "metadata": {},
   "source": [
    "#### Copuling Interval del VPC"
   ]
  },
  {
   "cell_type": "code",
   "execution_count": null,
   "metadata": {},
   "outputs": [],
   "source": [
    "df.hist(column = 'ci')"
   ]
  },
  {
   "cell_type": "markdown",
   "metadata": {},
   "source": [
    "#### Pause Compentasory after VPC"
   ]
  },
  {
   "cell_type": "code",
   "execution_count": null,
   "metadata": {},
   "outputs": [],
   "source": [
    "df.hist(column = 'cp')"
   ]
  },
  {
   "cell_type": "markdown",
   "metadata": {},
   "source": [
    "#### TS and TO for isolated VPC-tchograms"
   ]
  },
  {
   "cell_type": "code",
   "execution_count": null,
   "metadata": {},
   "outputs": [],
   "source": [
    "df.hist(column = 'to')\n",
    "df.hist(column = 'ts')"
   ]
  },
  {
   "cell_type": "markdown",
   "metadata": {},
   "source": [
    "#### Average TS and TO, per patient"
   ]
  },
  {
   "cell_type": "code",
   "execution_count": null,
   "metadata": {},
   "outputs": [],
   "source": [
    "df.hist(column = 'to_average')\n",
    "df.hist(column = 'ts_average')"
   ]
  },
  {
   "cell_type": "markdown",
   "metadata": {},
   "source": [
    "### REFLEXIONES SOBRE LOS HISTOGRAMAS\n",
    "\n",
    "Hay una cosa que me ha llamado mucho la atención al ver los histogramas. Tiene que ver con el hecho de que no se ve casi nada en los histogramas de las potencias. Da la impresión de que tenemos un montón de muestras con un valor muy pequeño, y muy pocas con valores muy grandes. Esto hace que la pinta de los histogramas sea como exponencial. \n",
    "\n",
    "Me gustaría comprobar si esto se soluciona aplicando una transformación logarítmica a estos valores. Aquí vamos a tenes problemas con los valores que sean 0. Por eso, descartamos ya la variable PUlf. En las restantes no debería haber valores de 0, salvo error. Vamos a representar lo que ocurre cuando transofrmamos. Esto debería resultar en un histograma más \"gaussiano\". Esto nos va a permitir luego entender mejor los resultados. \n",
    "\n",
    "Realizo yo la transformación para una de las variables, haz el resto. **Ojo: sólo para las de la potencia (excepto ulf)**."
   ]
  },
  {
   "cell_type": "markdown",
   "metadata": {},
   "source": [
    "#### Transformación logarítmica de variables de potencia: Plf"
   ]
  },
  {
   "cell_type": "code",
   "execution_count": null,
   "metadata": {},
   "outputs": [],
   "source": [
    "#con este comando se aplica la función np.log a la variable Plf y la guardamos en una nueva variable con el nombre Plf_log\n",
    "\n",
    "df['Plf_log'] = df['Plf'].apply(np.log)"
   ]
  },
  {
   "cell_type": "code",
   "execution_count": null,
   "metadata": {},
   "outputs": [],
   "source": [
    "df.hist(column='Plf_log',bins = 50)"
   ]
  },
  {
   "cell_type": "markdown",
   "metadata": {},
   "source": [
    "**Transformación logarítmica de variables de potencia: Ptot**"
   ]
  },
  {
   "cell_type": "code",
   "execution_count": null,
   "metadata": {},
   "outputs": [],
   "source": [
    "df['Ptot_log'] = df['Ptot'].apply(np.log)"
   ]
  },
  {
   "cell_type": "code",
   "execution_count": null,
   "metadata": {},
   "outputs": [],
   "source": [
    "df.hist(column='Ptot_log',bins = 50)"
   ]
  },
  {
   "cell_type": "markdown",
   "metadata": {},
   "source": [
    "**Transformación logarítmica de variables de potencia: Pvlf**"
   ]
  },
  {
   "cell_type": "code",
   "execution_count": null,
   "metadata": {},
   "outputs": [],
   "source": [
    "df['Pvlf_log'] = df['Pvlf'].apply(np.log)"
   ]
  },
  {
   "cell_type": "code",
   "execution_count": null,
   "metadata": {},
   "outputs": [],
   "source": [
    "df.hist(column='Pvlf_log',bins = 50)"
   ]
  },
  {
   "cell_type": "markdown",
   "metadata": {},
   "source": [
    "**Transformación logarítmica de variables de potencia: Plf**"
   ]
  },
  {
   "cell_type": "code",
   "execution_count": null,
   "metadata": {},
   "outputs": [],
   "source": [
    "df['Plf_log'] = df['Plf'].apply(np.log)\n",
    "df.hist(column='Plf_log',bins = 50)"
   ]
  },
  {
   "cell_type": "markdown",
   "metadata": {},
   "source": [
    "**Transformación logarítmica de variables de potencia: Phf**"
   ]
  },
  {
   "cell_type": "code",
   "execution_count": null,
   "metadata": {},
   "outputs": [],
   "source": [
    "df['Phf_log'] = df['Phf'].apply(np.log)\n",
    "df.hist(column='Phf_log',bins = 50)"
   ]
  },
  {
   "cell_type": "markdown",
   "metadata": {},
   "source": [
    "**Transformación logarítmica de variables de potencia: lfhf_ratio**"
   ]
  },
  {
   "cell_type": "code",
   "execution_count": null,
   "metadata": {},
   "outputs": [],
   "source": [
    "df['lfhf_ratio_log'] = df['lfhf_ratio'].apply(np.log)\n",
    "df.hist(column='lfhf_ratio_log',bins = 50)"
   ]
  },
  {
   "cell_type": "markdown",
   "metadata": {},
   "source": [
    "## TO DO: realizar las transformaciones de las variables y representar"
   ]
  },
  {
   "cell_type": "code",
   "execution_count": null,
   "metadata": {},
   "outputs": [],
   "source": [
    "#creamos la variable low_risk, que será 1 si el VPC-tachogram pertenece a un pat de low risk\n",
    "# será 0 si pertenece a uno de high risk y será NaN si no pertenece ni a uno ni a otro\n",
    "df['low_risk'] = np.NaN\n",
    "\n",
    "print(np.sum(df['low_risk'].isna()))\n",
    "\n",
    "df.head()\n",
    "\n",
    "#asiganmos 1 a los VPC-tachograms de pats que cumplan ts_a >2.5 & to_a < 0\n",
    "\n",
    "#df.loc[(df['ts_average']>2.5) & (df['to_average']<0),'low_risk'] = 1\n",
    "df.loc[(df['ts_average']>2.5) & (df['to_average']<0),'low_risk'] = 'Low risk'\n",
    "\n",
    "#asiganmos 0 a los VPC-tachograms de pats que cumplan ts_a <2.5 & to_a > 0\n",
    "#df.loc[(df['ts_average']<2.5) & (df['to_average']>0),'low_risk'] = 0\n",
    "df.loc[(df['ts_average']<2.5) & (df['to_average']>0),'low_risk'] = 'High risk'\n",
    "\n",
    "\n",
    "print(np.sum(df['low_risk'].isna()))\n",
    "\n",
    "df.head()"
   ]
  },
  {
   "cell_type": "markdown",
   "metadata": {},
   "source": [
    "## TO_DO: boxplots de todas las variables (con log y sin log). Menos Pulf (descartada ya) y to y ts.\n",
    "\n",
    "A partir de ahora $to$ y $ts$ van a ser nuestras variables respuesta, por lo que vamos a intentar relacionar todas las otras variables con estas. "
   ]
  },
  {
   "cell_type": "markdown",
   "metadata": {},
   "source": [
    "### Comparación con Boxplots\n",
    "Vamos a realizar una representación de boxplot. Hecha un vistazo a lo que son los boxplots en la wikipedia [boxplot](https://en.wikipedia.org/wiki/Box_plot). Esto nos va a permitir verificar si existe alguna diferencia entre los valores de HRV, medidos con índices espectrales para los pacientes de alto riesgo vs. los de bajo riesgo. Es una representación muy parecida a la que tu has planteado, pero es más compacta, nos permite ver de un vistazo, y en la misma gráfica, la comparación entre las distribuciones."
   ]
  },
  {
   "cell_type": "code",
   "execution_count": null,
   "metadata": {
    "scrolled": true
   },
   "outputs": [],
   "source": [
    "#boxplot for Ptot, and the corresponding log\n",
    "\n",
    "df.boxplot('Ptot',by='low_risk',figsize = (10,6))\n",
    "df.boxplot('Ptot_log',by='low_risk',figsize = (10,6))\n"
   ]
  },
  {
   "cell_type": "markdown",
   "metadata": {},
   "source": [
    "## Reflexiones sobre los resultados con este primer boxplot\n",
    "\n",
    "Una cosa que podemos ver es que, cuando no representamos los valores con la transformación logarítmica, la mayoría de los valores los muestra como si fuesen *outliers*. Sin embargo, cuando se realiza la transformación, se puede observar, que al ser la distribución de los valores, \"más gaussiana\", se pueden analizar las diferencias más sencillamente. \n",
    "\n",
    "Yo destacaría que los valores de Ptot, para los pacientes de bajo resgo (1.0, luego podemos cambiar esto en el dataframe, para que aparezcan labels mejor pintados), poseen una Potencia total mayor. Quizá indicando que la HRV es mayor.\n",
    "\n",
    "Como puedes ver este análisis es más sencillo de realizar cuando utilizamos boxplots."
   ]
  },
  {
   "cell_type": "code",
   "execution_count": null,
   "metadata": {},
   "outputs": [],
   "source": [
    "\"\"\"#Obtenemos un nuevo Dataframe con los tacogramas de bajo riesgo, es decir, low_risk = 1\n",
    "df2 = df[df['low_risk'] == 1]\n",
    "\n",
    "#Dibujamos el histograma  de la Ptot correspondiente a los tacogramas de bajo riesgo\n",
    "df2.hist(column = 'Ptot', bins = 50)\n",
    "\n",
    "#Realizamos lo mismo pero para los correspondientes a alto riesgo\n",
    "df2= df[df['low_risk'] == 0]\n",
    "df2.hist(column = 'Ptot', bins = 50)\n",
    "\n",
    "#Histograma para los que no pertenecen ni a bajo ni a alto riesgo\n",
    "df2= df[df['low_risk'].isna()]\n",
    "df2.hist(column = 'Ptot', bins = 50)\n",
    "\n",
    "#Dibujamos el histograma  de la Ptot_log correspondiente a los tacogramas de bajo riesgo\n",
    "df2= df[df['low_risk'] == 1]\n",
    "df2.hist(column = 'Ptot_log', bins = 50)\n",
    "\n",
    "#Dibujamos el histograma  de la Ptot_log correspondiente a los tacogramas de alto riesgo\n",
    "df2= df[df['low_risk'] == 0]\n",
    "df2.hist(column = 'Ptot_log', bins = 50)\n",
    "\n",
    "#Histograma Ptot_log para los que no pertenecen ni a bajo ni a alto riesgo\n",
    "df2= df[df['low_risk'].isna()]\n",
    "df2.hist(column = 'Ptot_log', bins = 50)\n",
    "\"\"\""
   ]
  },
  {
   "cell_type": "markdown",
   "metadata": {},
   "source": [
    "### Pvlf"
   ]
  },
  {
   "cell_type": "code",
   "execution_count": null,
   "metadata": {},
   "outputs": [],
   "source": [
    "#boxplot for Pvlf, and the corresponding log\n",
    "\n",
    "df.boxplot('Pvlf',by='low_risk',figsize = (10,6))\n",
    "df.boxplot('Pvlf_log',by='low_risk',figsize = (10,6))"
   ]
  },
  {
   "cell_type": "markdown",
   "metadata": {},
   "source": [
    "**Representación Pvlf y Pvlf_log de los VPC-tachogram de bajo riesgo, alto riesgo y ni uno ni otro**"
   ]
  },
  {
   "cell_type": "code",
   "execution_count": null,
   "metadata": {},
   "outputs": [],
   "source": [
    "\"\"\"#Obtenemos un nuevo Dataframe con los tacogramas de bajo riesgo, es decir, low_risk = 1\n",
    "df2 = df[df['low_risk'] == 1]\n",
    "\n",
    "#Dibujamos el histograma  de la Pvlf correspondiente a los tacogramas de bajo riesgo\n",
    "df2.hist(column = 'Pvlf', bins = 50)\n",
    "\n",
    "#Realizamos lo mismo pero para los correspondientes a alto riesgo\n",
    "df2= df[df['low_risk'] == 0]\n",
    "df2.hist(column = 'Pvlf', bins = 50)\n",
    "\n",
    "#Histograma para los que no pertenecen ni a bajo ni a alto riesgo\n",
    "df2= df[df['low_risk'].isna()]\n",
    "df2.hist(column = 'Pvlf', bins = 50)\n",
    "\n",
    "#Dibujamos el histograma  de la Pvlf_log correspondiente a los tacogramas de bajo riesgo\n",
    "df2= df[df['low_risk'] == 1]\n",
    "df2.hist(column = 'Pvlf_log', bins = 50)\n",
    "\n",
    "#Dibujamos el histograma  de la Pvlf_log correspondiente a los tacogramas de alto riesgo\n",
    "df2= df[df['low_risk'] == 0]\n",
    "df2.hist(column = 'Pvlf_log', bins = 50)\n",
    "\n",
    "#Histograma Pvlf_log para los que no pertenecen ni a bajo ni a alto riesgo\n",
    "df2= df[df['low_risk'].isna()]\n",
    "df2.hist(column = 'Pvlf_log', bins = 50)\n",
    "\"\"\""
   ]
  },
  {
   "cell_type": "markdown",
   "metadata": {},
   "source": [
    "**Representación Plf y Plf_log de los VPC-tachogram de bajo riesgo, alto riesgo y ni uno ni otro**"
   ]
  },
  {
   "cell_type": "code",
   "execution_count": null,
   "metadata": {},
   "outputs": [],
   "source": [
    "\"\"\"#Obtenemos un nuevo Dataframe con los tacogramas de bajo riesgo, es decir, low_risk = 1\n",
    "df2 = df[df['low_risk'] == 1]\n",
    "\n",
    "#Dibujamos el histograma  de la Plf correspondiente a los tacogramas de bajo riesgo\n",
    "df2.hist(column = 'Plf', bins = 50)\n",
    "\n",
    "#Realizamos lo mismo pero para los correspondientes a alto riesgo\n",
    "df2= df[df['low_risk'] == 0]\n",
    "df2.hist(column = 'Plf', bins = 50)\n",
    "\n",
    "#Histograma para los que no pertenecen ni a bajo ni a alto riesgo\n",
    "df2= df[df['low_risk'].isna()]\n",
    "df2.hist(column = 'Plf', bins = 50)\n",
    "\n",
    "#Dibujamos el histograma  de la Plf_log correspondiente a los tacogramas de bajo riesgo\n",
    "df2= df[df['low_risk'] == 1]\n",
    "df2.hist(column = 'Plf_log', bins = 50)\n",
    "\n",
    "#Dibujamos el histograma  de la Plf_log correspondiente a los tacogramas de alto riesgo\n",
    "df2= df[df['low_risk'] == 0]\n",
    "df2.hist(column = 'Plf_log', bins = 50)\n",
    "\n",
    "#Histograma Plf_log para los que no pertenecen ni a bajo ni a alto riesgo\n",
    "df2= df[df['low_risk'].isna()]\n",
    "df2.hist(column = 'Plf_log', bins = 50)\n",
    "\"\"\""
   ]
  },
  {
   "cell_type": "code",
   "execution_count": null,
   "metadata": {},
   "outputs": [],
   "source": [
    "#boxplot for Plf, and the corresponding log\n",
    "\n",
    "df.boxplot('Plf',by='low_risk',figsize = (10,6))\n",
    "df.boxplot('Plf_log',by='low_risk',figsize = (10,6))"
   ]
  },
  {
   "cell_type": "markdown",
   "metadata": {},
   "source": [
    "**Representación Phf y Phf_log de los VPC-tachogram de bajo riesgo, alto riesgo y ni uno ni otro**"
   ]
  },
  {
   "cell_type": "code",
   "execution_count": null,
   "metadata": {},
   "outputs": [],
   "source": [
    "\"\"\"#Obtenemos un nuevo Dataframe con los tacogramas de bajo riesgo, es decir, low_risk = 1\n",
    "df2 = df[df['low_risk'] == 1]\n",
    "\n",
    "#Dibujamos el histograma  de la Phf correspondiente a los tacogramas de bajo riesgo\n",
    "df2.hist(column = 'Phf', bins = 50)\n",
    "\n",
    "#Realizamos lo mismo pero para los correspondientes a alto riesgo\n",
    "df2= df[df['low_risk'] == 0]\n",
    "df2.hist(column = 'Phf', bins = 50)\n",
    "\n",
    "#Histograma para los que no pertenecen ni a bajo ni a alto riesgo\n",
    "df2= df[df['low_risk'].isna()]\n",
    "df2.hist(column = 'Phf', bins = 50)\n",
    "\n",
    "#Dibujamos el histograma  de la Phf_log correspondiente a los tacogramas de bajo riesgo\n",
    "df2= df[df['low_risk'] == 1]\n",
    "df2.hist(column = 'Phf_log', bins = 50)\n",
    "\n",
    "#Dibujamos el histograma  de la Phf_log correspondiente a los tacogramas de alto riesgo\n",
    "df2= df[df['low_risk'] == 0]\n",
    "df2.hist(column = 'Phf_log', bins = 50)\n",
    "\n",
    "#Histograma Phf_log para los que no pertenecen ni a bajo ni a alto riesgo\n",
    "df2= df[df['low_risk'].isna()]\n",
    "df2.hist(column = 'Phf_log', bins = 50)\n",
    "\"\"\""
   ]
  },
  {
   "cell_type": "code",
   "execution_count": null,
   "metadata": {},
   "outputs": [],
   "source": [
    "#boxplot for Phf, and the corresponding log\n",
    "\n",
    "df.boxplot('Phf',by='low_risk',figsize = (10,6))\n",
    "df.boxplot('Phf_log',by='low_risk',figsize = (10,6))"
   ]
  },
  {
   "cell_type": "markdown",
   "metadata": {},
   "source": [
    "**Representación lfhf_ratio y lfhf_ratio_log de los VPC-tachogram de bajo riesgo, alto riesgo y ni uno ni otro**"
   ]
  },
  {
   "cell_type": "code",
   "execution_count": null,
   "metadata": {},
   "outputs": [],
   "source": [
    "\"\"\"#Obtenemos un nuevo Dataframe con los tacogramas de bajo riesgo, es decir, low_risk = 1\n",
    "df2 = df[df['low_risk'] == 1]\n",
    "\n",
    "#Dibujamos el histograma  de lfhf_ratio correspondiente a los tacogramas de bajo riesgo\n",
    "df2.hist(column = 'lfhf_ratio', bins = 50)\n",
    "\n",
    "#Realizamos lo mismo pero para los correspondientes a alto riesgo\n",
    "df2= df[df['low_risk'] == 0]\n",
    "df2.hist(column = 'lfhf_ratio', bins = 50)\n",
    "\n",
    "#Histograma para los que no pertenecen ni a bajo ni a alto riesgo\n",
    "df2= df[df['low_risk'].isna()]\n",
    "df2.hist(column = 'lfhf_ratio', bins = 50)\n",
    "\n",
    "#Dibujamos el histograma  de la  lfhf_ratio_log correspondiente a los tacogramas de bajo riesgo\n",
    "df2= df[df['low_risk'] == 1]\n",
    "df2.hist(column = 'lfhf_ratio_log', bins = 50)\n",
    "\n",
    "#Dibujamos el histograma  de la  lfhf_ratio_log correspondiente a los tacogramas de alto riesgo\n",
    "df2= df[df['low_risk'] == 0]\n",
    "df2.hist(column = 'lfhf_ratio_log', bins = 50)\n",
    "\n",
    "#Histograma  lfhf_ratio_log para los que no pertenecen ni a bajo ni a alto riesgo\n",
    "df2= df[df['low_risk'].isna()]\n",
    "df2.hist(column = 'lfhf_ratio_log', bins = 50)\n",
    "\"\"\""
   ]
  },
  {
   "cell_type": "code",
   "execution_count": null,
   "metadata": {},
   "outputs": [],
   "source": [
    "#boxplot for Phf, and the corresponding log\n",
    "df.boxplot('lfhf_ratio',by='low_risk',figsize = (10,6))\n",
    "df.boxplot('lfhf_ratio_log',by='low_risk',figsize = (10,6))"
   ]
  },
  {
   "cell_type": "markdown",
   "metadata": {},
   "source": [
    "**Representación scl de los VPC-tachogram de bajo riesgo, alto riesgo y ni uno ni otro**"
   ]
  },
  {
   "cell_type": "code",
   "execution_count": null,
   "metadata": {},
   "outputs": [],
   "source": [
    "\"\"\"#Obtenemos un nuevo Dataframe con los tacogramas de bajo riesgo, es decir, low_risk = 1\n",
    "df2 = df[df['low_risk'] == 1]\n",
    "\n",
    "#Dibujamos el histograma  de scl correspondiente a los tacogramas de bajo riesgo\n",
    "df2.hist(column = 'scl', bins = 50)\n",
    "\n",
    "#Realizamos lo mismo pero para los correspondientes a alto riesgo\n",
    "df2= df[df['low_risk'] == 0]\n",
    "df2.hist(column = 'scl', bins = 50)\n",
    "\n",
    "#Histograma para los que no pertenecen ni a bajo ni a alto riesgo\n",
    "df2= df[df['low_risk'].isna()]\n",
    "df2.hist(column = 'scl', bins = 50)\n",
    "\"\"\"\n",
    "\n",
    "df.boxplot('scl',by='low_risk',figsize = (10,6))"
   ]
  },
  {
   "cell_type": "markdown",
   "metadata": {},
   "source": [
    "**Representación ci de los VPC-tachogram de bajo riesgo, alto riesgo y ni uno ni otro**"
   ]
  },
  {
   "cell_type": "code",
   "execution_count": null,
   "metadata": {},
   "outputs": [],
   "source": [
    "\"\"\"#Obtenemos un nuevo Dataframe con los tacogramas de bajo riesgo, es decir, low_risk = 1\n",
    "df2 = df[df['low_risk'] == 1]\n",
    "\n",
    "#Dibujamos el histograma  de  ci correspondiente a los tacogramas de bajo riesgo\n",
    "df2.hist(column = 'ci', bins = 50)\n",
    "\n",
    "#Realizamos lo mismo pero para los correspondientes a alto riesgo\n",
    "df2= df[df['low_risk'] == 0]\n",
    "df2.hist(column = 'ci', bins = 50)\n",
    "\n",
    "#Histograma para los que no pertenecen ni a bajo ni a alto riesgo\n",
    "df2= df[df['low_risk'].isna()]\n",
    "df2.hist(column = 'ci', bins = 50)\n",
    "\"\"\"\n",
    "df.boxplot('ci',by='low_risk',figsize = (10,6))"
   ]
  },
  {
   "cell_type": "markdown",
   "metadata": {},
   "source": [
    "**Representación cp de los VPC-tachogram de bajo riesgo, alto riesgo y ni uno ni otro**"
   ]
  },
  {
   "cell_type": "code",
   "execution_count": null,
   "metadata": {},
   "outputs": [],
   "source": [
    "\"\"\"#Obtenemos un nuevo Dataframe con los tacogramas de bajo riesgo, es decir, low_risk = 1\n",
    "df2 = df[df['low_risk'] == 1]\n",
    "\n",
    "#Dibujamos el histograma  de  cp correspondiente a los tacogramas de bajo riesgo\n",
    "df2.hist(column = 'cp', bins = 50)\n",
    "\n",
    "#Realizamos lo mismo pero para los correspondientes a alto riesgo\n",
    "df2= df[df['low_risk'] == 0]\n",
    "df2.hist(column = 'cp', bins = 50)\n",
    "\n",
    "#Histograma para los que no pertenecen ni a bajo ni a alto riesgo\n",
    "df2= df[df['low_risk'].isna()]\n",
    "df2.hist(column = 'cp', bins = 50)\n",
    "\"\"\"\n",
    "df.boxplot('cp',by='low_risk',figsize = (10,6))"
   ]
  },
  {
   "cell_type": "markdown",
   "metadata": {},
   "source": [
    "#  **Relación de to y ts con el resto de variables**"
   ]
  },
  {
   "cell_type": "markdown",
   "metadata": {},
   "source": [
    "## Reflexiones\n",
    "\n",
    "En primer lugar, vamos a intentar representar con respecto a $ts$, con este parámetro es con el que suelen salir las cosas con más significado. He representado todos los puntos, y les he puesto color distinto a los que son de bajo riesgo de los que son de alto riesgo, luego los vamos a analizar por separado, porque queda claro que existe una relación, que seguro que podemos medir con una regresión lineal, pero que la recta que vamos a poder dibujar es diferente, dependiendo de si es de bajo riesgo o de alto riesgo. También está claro que si hacemos la representación frente a la variable con log parece que tenemos mejor representación."
   ]
  },
  {
   "cell_type": "markdown",
   "metadata": {},
   "source": [
    "## TO DO \n",
    "Repetir los scatter plot para todas las demás variables. Cuando tengas esto, le echamos un vistazo y vemos que análisis estadísticos podemos hacer, yo creo que unas cuantas regresiones lineleas separando por low-risk y high-risk, van a salir significativas. Con eso ya estaría toda la parte del análisis :)\n",
    "\n",
    "Un saludo"
   ]
  },
  {
   "cell_type": "markdown",
   "metadata": {},
   "source": [
    "**to y Ptot / to y Ptot_log**\n",
    "\n",
    "Aquí lo que deberíamos utilizar es una representación de [scatter-plot](https://en.wikipedia.org/wiki/Scatter_plot)"
   ]
  },
  {
   "cell_type": "code",
   "execution_count": null,
   "metadata": {},
   "outputs": [],
   "source": [
    "import matplotlib.pyplot as plt\n",
    "\n",
    "plt.figure(figsize = (8,6))\n",
    "plt.scatter(x = df['Ptot'],y = df['to'],c = df['low_risk'] == 'Low risk')\n",
    "plt.xlabel('Ptot [ms^2]')\n",
    "plt.ylabel('to')\n",
    "plt.figure(figsize = (8,6))\n",
    "plt.scatter(x = df['Ptot_log'],y = df['to'],c = df['low_risk'] == 'Low risk')\n",
    "plt.xlabel('Ptot_log')\n",
    "plt.ylabel('to')"
   ]
  },
  {
   "cell_type": "markdown",
   "metadata": {},
   "source": [
    "**to y Plf / to y Plf_log**"
   ]
  },
  {
   "cell_type": "code",
   "execution_count": null,
   "metadata": {},
   "outputs": [],
   "source": [
    "import matplotlib.pyplot as plt\n",
    "\n",
    "plt.figure(figsize = (8,6))\n",
    "plt.scatter(x = df['Plf'],y = df['to'],c = df['low_risk'] == 'Low risk')\n",
    "plt.xlabel('Plf [ms^2]')\n",
    "plt.ylabel('to')\n",
    "plt.figure(figsize = (8,6))\n",
    "plt.scatter(x = df['Plf_log'],y = df['to'],c = df['low_risk'] == 'Low risk')\n",
    "plt.xlabel('Plf_log')\n",
    "plt.ylabel('to')"
   ]
  },
  {
   "cell_type": "markdown",
   "metadata": {},
   "source": [
    "**to y Pvlf / to y Pvlf_log**"
   ]
  },
  {
   "cell_type": "code",
   "execution_count": null,
   "metadata": {},
   "outputs": [],
   "source": [
    "import matplotlib.pyplot as plt\n",
    "\n",
    "plt.figure(figsize = (8,6))\n",
    "plt.scatter(x = df['Pvlf'],y = df['to'],c = df['low_risk'] == 'Low risk')\n",
    "plt.xlabel('Pvlf [ms^2]')\n",
    "plt.ylabel('to')\n",
    "plt.figure(figsize = (8,6))\n",
    "plt.scatter(x = df['Pvlf_log'],y = df['to'],c = df['low_risk'] == 'Low risk')\n",
    "plt.xlabel('Pvlf_log')\n",
    "plt.ylabel('to')"
   ]
  },
  {
   "cell_type": "markdown",
   "metadata": {},
   "source": [
    "**to y Phf / to y Phf_log**"
   ]
  },
  {
   "cell_type": "code",
   "execution_count": null,
   "metadata": {},
   "outputs": [],
   "source": [
    "import matplotlib.pyplot as plt\n",
    "\n",
    "plt.figure(figsize = (8,6))\n",
    "plt.scatter(x = df['Phf'],y = df['to'],c = df['low_risk'] == 'Low risk')\n",
    "#plt.legend()\n",
    "plt.xlabel('Phf [ms^2]')\n",
    "plt.ylabel('to')\n",
    "plt.figure(figsize = (8,6))\n",
    "plt.scatter(x = df['Phf_log'],y = df['to'],c = df['low_risk'] == 'Low risk')\n",
    "plt.xlabel('Phf_log')\n",
    "plt.ylabel('to')"
   ]
  },
  {
   "cell_type": "markdown",
   "metadata": {},
   "source": [
    "**to y lfhf_ratio / to y lfhf_ratio_log**"
   ]
  },
  {
   "cell_type": "code",
   "execution_count": null,
   "metadata": {},
   "outputs": [],
   "source": [
    "import matplotlib.pyplot as plt\n",
    "\n",
    "plt.figure(figsize = (8,6))\n",
    "plt.scatter(x = df['lfhf_ratio'],y = df['to'],c = df['low_risk'] == 'Low risk')\n",
    "#plt.legend()\n",
    "plt.xlabel('lfhf_ratio')\n",
    "plt.ylabel('to')\n",
    "plt.figure(figsize = (8,6))\n",
    "plt.scatter(x = df['lfhf_ratio_log'],y = df['to'],c = df['low_risk'] == 'Low risk')\n",
    "plt.xlabel('lfhf_ratio_log')\n",
    "plt.ylabel('to')"
   ]
  },
  {
   "cell_type": "markdown",
   "metadata": {},
   "source": [
    "**to y scl**"
   ]
  },
  {
   "cell_type": "code",
   "execution_count": null,
   "metadata": {},
   "outputs": [],
   "source": [
    "import matplotlib.pyplot as plt\n",
    "\n",
    "plt.figure(figsize = (8,6))\n",
    "plt.scatter(x = df['scl'],y = df['to'],c = df['low_risk'] == 'Low risk')\n",
    "#plt.legend()\n",
    "plt.xlabel('scl [ms]')\n",
    "plt.ylabel('to')\n"
   ]
  },
  {
   "cell_type": "markdown",
   "metadata": {},
   "source": [
    "**to y ci**"
   ]
  },
  {
   "cell_type": "code",
   "execution_count": null,
   "metadata": {},
   "outputs": [],
   "source": [
    "import matplotlib.pyplot as plt\n",
    "\n",
    "plt.figure(figsize = (8,6))\n",
    "plt.scatter(x = df['ci'],y = df['to'],c = df['low_risk'] == 'Low risk')\n",
    "#plt.legend()\n",
    "plt.xlabel('ci [ms]')\n",
    "plt.ylabel('to')\n"
   ]
  },
  {
   "cell_type": "markdown",
   "metadata": {},
   "source": [
    "**to y cp**"
   ]
  },
  {
   "cell_type": "code",
   "execution_count": null,
   "metadata": {},
   "outputs": [],
   "source": [
    "import matplotlib.pyplot as plt\n",
    "\n",
    "plt.figure(figsize = (8,6))\n",
    "plt.scatter(x = df['cp'],y = df['to'],c = df['low_risk'] == 'Low risk')\n",
    "#plt.legend()\n",
    "plt.xlabel('cp [ms]')\n",
    "plt.ylabel('to')\n"
   ]
  },
  {
   "cell_type": "markdown",
   "metadata": {},
   "source": [
    "**ts y Ptot / ts y Ptot_log**\n",
    "\n",
    "Aquí lo que deberíamos utilizar es una representación de [scatter-plot](https://en.wikipedia.org/wiki/Scatter_plot)"
   ]
  },
  {
   "cell_type": "code",
   "execution_count": null,
   "metadata": {},
   "outputs": [],
   "source": [
    "import matplotlib.pyplot as plt\n",
    "\n",
    "#df.sort_values(by = ['Ptot'], ascending = True)\n",
    "#df.plot.scatter(x='Ptot',y='ts',c= (df['low_risk'] == 'Low risk'),colormap = 'spring',figsize = (10,6))\n",
    "#df.plot.scatter(x='Ptot_log',y='ts',c= (df['low_risk'] == 'Low risk'),colormap = 'spring',figsize = (10,6))\n",
    "\n",
    "plt.figure(figsize = (8,6))\n",
    "plt.scatter(x = df['Ptot'],y = df['ts'],c = df['low_risk'] == 'Low risk')\n",
    "#plt.legend()\n",
    "plt.xlabel('Ptot [ms^2]')\n",
    "plt.ylabel('ts')\n",
    "plt.figure(figsize = (8,6))\n",
    "plt.scatter(x = df['Ptot_log'],y = df['ts'],c = df['low_risk'] == 'Low risk')\n",
    "plt.xlabel('Ptot_log')\n",
    "plt.ylabel('ts')"
   ]
  },
  {
   "cell_type": "markdown",
   "metadata": {},
   "source": [
    "**ts y Pvlf / ts y Pvlf_log**"
   ]
  },
  {
   "cell_type": "code",
   "execution_count": null,
   "metadata": {},
   "outputs": [],
   "source": [
    "import matplotlib.pyplot as plt\n",
    "\n",
    "plt.figure(figsize = (8,6))\n",
    "plt.scatter(x = df['Pvlf'],y = df['ts'], c = df['low_risk'] == 'Low risk')\n",
    "#plt.legend()\n",
    "plt.xlabel('Pvlf [ms^2]')\n",
    "plt.ylabel('ts')\n",
    "plt.figure(figsize = (8,6))\n",
    "plt.scatter(x = df['Pvlf_log'],y = df['ts'], c = df['low_risk'] == 'Low risk')\n",
    "plt.xlabel('Pvlf_log')\n",
    "plt.ylabel('ts')"
   ]
  },
  {
   "cell_type": "markdown",
   "metadata": {},
   "source": [
    "**ts y Plf / ts y Plf_log**"
   ]
  },
  {
   "cell_type": "code",
   "execution_count": null,
   "metadata": {},
   "outputs": [],
   "source": [
    "import matplotlib.pyplot as plt\n",
    "\n",
    "plt.figure(figsize = (8,6))\n",
    "plt.scatter(x = df['Plf'],y = df['ts'],c = df['low_risk'] == 'Low risk')\n",
    "#plt.legend()\n",
    "plt.xlabel('Plf [ms^2]')\n",
    "plt.ylabel('ts')\n",
    "plt.figure(figsize = (8,6))\n",
    "plt.scatter(x = df['Plf_log'],y = df['ts'],c = df['low_risk'] == 'Low risk')\n",
    "plt.xlabel('Plf_log')\n",
    "plt.ylabel('ts')"
   ]
  },
  {
   "cell_type": "markdown",
   "metadata": {},
   "source": [
    "**ts y Phf / ts y Phf_log**"
   ]
  },
  {
   "cell_type": "code",
   "execution_count": null,
   "metadata": {},
   "outputs": [],
   "source": [
    "import matplotlib.pyplot as plt\n",
    "\n",
    "plt.figure(figsize = (8,6))\n",
    "plt.scatter(x = df['Phf'],y = df['ts'],c = df['low_risk'] == 'Low risk')\n",
    "#plt.legend()\n",
    "plt.xlabel('Phf [ms^2]')\n",
    "plt.ylabel('ts')\n",
    "plt.figure(figsize = (8,6))\n",
    "plt.scatter(x = df['Phf_log'],y = df['ts'],c = df['low_risk'] == 'Low risk')\n",
    "plt.xlabel('Phf_log')\n",
    "plt.ylabel('ts')"
   ]
  },
  {
   "cell_type": "markdown",
   "metadata": {},
   "source": [
    "**ts y lfhf_ratio / ts y lfhf_ratio_log**"
   ]
  },
  {
   "cell_type": "code",
   "execution_count": null,
   "metadata": {},
   "outputs": [],
   "source": [
    "import matplotlib.pyplot as plt\n",
    "\n",
    "plt.figure(figsize = (8,6))\n",
    "plt.scatter(x = df['lfhf_ratio'],y = df['ts'],c = df['low_risk'] == 'Low risk')\n",
    "plt.xlabel('lfhf_ratio')\n",
    "plt.ylabel('ts')\n",
    "plt.figure(figsize = (8,6))\n",
    "plt.scatter(x = df['lfhf_ratio_log'],y = df['ts'],c = df['low_risk'] == 'Low risk')\n",
    "plt.xlabel('lfhf_ratio_log')\n",
    "plt.ylabel('ts')"
   ]
  },
  {
   "cell_type": "markdown",
   "metadata": {},
   "source": [
    "**ts y scl**"
   ]
  },
  {
   "cell_type": "code",
   "execution_count": null,
   "metadata": {},
   "outputs": [],
   "source": [
    "import matplotlib.pyplot as plt\n",
    "\n",
    "plt.figure(figsize = (8,6))\n",
    "plt.scatter(x = df['scl'],y = df['ts'],c = df['low_risk'] == 'Low risk')\n",
    "#plt.legend()\n",
    "plt.xlabel('scl [ms]')\n",
    "plt.ylabel('ts')\n"
   ]
  },
  {
   "cell_type": "markdown",
   "metadata": {},
   "source": [
    "**ts y ci**"
   ]
  },
  {
   "cell_type": "code",
   "execution_count": null,
   "metadata": {},
   "outputs": [],
   "source": [
    "import matplotlib.pyplot as plt\n",
    "\n",
    "plt.figure(figsize = (8,6))\n",
    "plt.scatter(x = df['ci'],y = df['ts'],c = df['low_risk'] == 'Low risk')\n",
    "#plt.legend()\n",
    "plt.xlabel('ci [ms]')\n",
    "plt.ylabel('ts')\n"
   ]
  },
  {
   "cell_type": "markdown",
   "metadata": {},
   "source": [
    "**ts y cp**"
   ]
  },
  {
   "cell_type": "code",
   "execution_count": null,
   "metadata": {},
   "outputs": [],
   "source": [
    "import matplotlib.pyplot as plt\n",
    "\n",
    "plt.figure(figsize = (8,6))\n",
    "plt.scatter(x = df['cp'],y = df['ts'],c = df['low_risk'] == 'Low risk')\n",
    "#plt.legend()\n",
    "plt.xlabel('cp [ms]')\n",
    "plt.ylabel('ts')\n"
   ]
  },
  {
   "cell_type": "markdown",
   "metadata": {},
   "source": [
    "## Análisis de regresión lineal\n",
    "\n",
    "Vamos a realizar el análisis de [regresión lineal](https://es.wikipedia.org/wiki/Regresi%C3%B3n_lineal). También te pediría que le echases un vistazo al capítulo 3 de [ISLR](https://www-bcf.usc.edu/~gareth/ISL/ISLR%20Seventh%20Printing.pdf), sobre todo el apartado 3.1. \n",
    "\n",
    "En primer lugar lo que vamos a hacer es separar los dataframes en dos dataframes, uno para low-risk y otro para high-risk, y luego realizar el análisis de regresión linea por separado."
   ]
  },
  {
   "cell_type": "code",
   "execution_count": null,
   "metadata": {},
   "outputs": [],
   "source": [
    "df_lowrisk = df[df['low_risk'] == 'Low risk']\n",
    "\n",
    "df_lowrisk.head()"
   ]
  },
  {
   "cell_type": "code",
   "execution_count": null,
   "metadata": {},
   "outputs": [],
   "source": [
    "df_highrisk = df[df['low_risk'] == 'High risk']\n",
    "df_highrisk.head()"
   ]
  },
  {
   "cell_type": "markdown",
   "metadata": {},
   "source": [
    "#### Low Risk: Regresión lineal entre Ptot_log y ts"
   ]
  },
  {
   "cell_type": "code",
   "execution_count": null,
   "metadata": {},
   "outputs": [],
   "source": [
    "import numpy as np\n",
    "import statsmodels.api as sm\n",
    "\n",
    "#low_risk\n",
    "X_ptot = df_lowrisk['Ptot_log']\n",
    "ts = df_lowrisk['ts']\n",
    "\n",
    "#add intercept\n",
    "X_ptot = sm.add_constant(X_ptot)\n",
    "\n",
    "#fit and summary\n",
    "model = sm.OLS(ts, X_ptot)\n",
    "results = model.fit()\n",
    "print(results.summary())"
   ]
  },
  {
   "cell_type": "markdown",
   "metadata": {},
   "source": [
    "### Interpretación de los resultados\n",
    "\n",
    "\n",
    "Vamos a realizar una interpretación rápida de los resultados del análisis de regresión:\n",
    "\n",
    "* 1.- En primer lugar tenemos que verificar si el modelo de regresión lineal en su conjunto es estadísticamente significativo o no. Para ello vamos a donde se indica Prob(F-statistic), si esta probabilidad es menor que 0.05, entonces podemos decir que el modelo es significativo.\n",
    "* 2.- El R-squared nos dice el porcentaje de la varianza de la variable y (TS) que somos capaces de explicar con la variable Ptot_log. Como vemos no es mucho, apporx un 30%, pero tampoco es bajo.\n",
    "* 3.- Una vez visto el modelo en su conjunto vamos a ver si cada una de las variables del modelo son significativamente diferentes de cero. En el caso de modelos de regresión simple sólo tenemos una variable, en este caso el coeficiente que acompaña a la variable Ptot_log. También tenemos el intercept, que es la ordenada en el origen. Para ver si son diferente de cero, vamos a analizar el valor de P >|t|, si esta probabilidad es menor que 0.05, entonces podemos decir que el coeficiente que multiplica a la variable es significativamente diferente de 0, y por lo tanto que la variable en cuestión aporta al modelo. Como ocurre en este caso.\n",
    "* 4.- Luego vamos a ver el valor del coeficiente, que en este caso es 6.26. Lo que nos dice es que cuando aumenta Ptot_log, aumenta TS y además por cada unidad que aumente, aumenta 6.26 TS (ojo Ptot está en unidades logarítmicas)."
   ]
  },
  {
   "cell_type": "code",
   "execution_count": null,
   "metadata": {
    "scrolled": true
   },
   "outputs": [],
   "source": [
    "#plot\n",
    "#from matplotlib import rc\n",
    "#import matplotlib.pyplot as plt\n",
    "\n",
    "\n",
    "#rc('text', usetex=True)\n",
    "plt.figure(figsize = (10,8))\n",
    "\n",
    "plt.scatter(df_lowrisk['Ptot_log'],df_lowrisk['ts'])\n",
    "plt.xlabel('$\\log{(P_{tot})}$',fontsize = 20)\n",
    "plt.ylabel('$TS$',fontsize = 20)\n",
    "\n",
    "xx = np.linspace(np.min(df_lowrisk['Ptot_log']),np.max(df_lowrisk['Ptot_log']),100)\n",
    "xx = sm.add_constant(xx)\n",
    "yy = results.predict(xx)\n",
    "plt.plot(xx[:,1],yy,'r--',linewidth = 3)\n",
    "\n",
    "#text with linear regresion\n",
    "s = '$TS = {} + $'\n",
    "plt.text(4, 50, r'$TS = %.2f + %.2f \\log({P_{tot}})$' % (results.params[0],results.params[1]), fontsize=20)"
   ]
  },
  {
   "cell_type": "markdown",
   "metadata": {},
   "source": [
    "#### High Risk: Regresión lineal entre Ptot_log y ts"
   ]
  },
  {
   "cell_type": "code",
   "execution_count": null,
   "metadata": {},
   "outputs": [],
   "source": [
    "import numpy as np\n",
    "import statsmodels.api as sm\n",
    "\n",
    "#high_risk\n",
    "X_ptot = df_highrisk['Ptot_log']\n",
    "ts = df_highrisk['ts']\n",
    "\n",
    "#add intercept\n",
    "X_ptot = sm.add_constant(X_ptot)\n",
    "\n",
    "#fit and summary\n",
    "model = sm.OLS(ts, X_ptot)\n",
    "results = model.fit()\n",
    "print(results.summary())"
   ]
  },
  {
   "cell_type": "code",
   "execution_count": null,
   "metadata": {},
   "outputs": [],
   "source": []
  }
 ],
 "metadata": {
  "kernelspec": {
   "display_name": "Python 3",
   "language": "python",
   "name": "python3"
  },
  "language_info": {
   "codemirror_mode": {
    "name": "ipython",
    "version": 3
   },
   "file_extension": ".py",
   "mimetype": "text/x-python",
   "name": "python",
   "nbconvert_exporter": "python",
   "pygments_lexer": "ipython3",
   "version": "3.6.5"
  }
 },
 "nbformat": 4,
 "nbformat_minor": 2
}
