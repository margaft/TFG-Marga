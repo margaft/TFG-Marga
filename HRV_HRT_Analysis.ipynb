{
 "cells": [
  {
   "cell_type": "markdown",
   "metadata": {},
   "source": [
    "# Análisis HRV y HRT"
   ]
  },
  {
   "cell_type": "markdown",
   "metadata": {},
   "source": [
    "## Datos en formato DATAFRAME\n",
    "\n",
    "El primer paso es la lectura de los datos y la conversión en un dataframe de PANDAS"
   ]
  },
  {
   "cell_type": "code",
   "execution_count": 79,
   "metadata": {
    "collapsed": true
   },
   "outputs": [],
   "source": [
    "#read data\n",
    "%matplotlib inline\n",
    "import matplotlib.pyplot as plt\n",
    "import numpy as np\n",
    "import pandas as pd\n",
    "\n",
    "\n",
    "X_data = np.load('X_matrix.npy')\n",
    "#no borres esta línea de arriba, te he añadido la línea para que puedas llamar desde tu ordenador a los datos\n",
    "#y vamos comentando y descomentando.\n",
    "\n",
    "#X_data = np.load(r'C:\\Users\\Margaft\\señal Rebeca\\PyCardio-master\\X_matrix.npy')\n",
    "\n",
    "#labels: id, name, Ptot, Pulf, Pvlf, Plf, Phf, lfhf_ratio, scl, ci, cp, to, ts, to_average, ts_average \n",
    "\n",
    "labels = ['id', 'name', 'Ptot', 'Pulf', 'Pvlf', 'Plf', 'Phf', 'lfhf_ratio', 'scl', 'ci', 'cp', 'to', 'ts', 'to_average', 'ts_average']\n",
    "    \n",
    "#convert into pandas\n",
    "\n",
    "df = pd.DataFrame(data = X_data,columns = labels)\n",
    "\n",
    "#change datatypes\n",
    "\n",
    "df[labels[2:]] = df[labels[2:]].apply(pd.to_numeric)\n"
   ]
  },
  {
   "cell_type": "markdown",
   "metadata": {},
   "source": [
    "Mostramos las 5 primeras filas del dataframe."
   ]
  },
  {
   "cell_type": "code",
   "execution_count": 80,
   "metadata": {},
   "outputs": [
    {
     "data": {
      "text/html": [
       "<div>\n",
       "<style scoped>\n",
       "    .dataframe tbody tr th:only-of-type {\n",
       "        vertical-align: middle;\n",
       "    }\n",
       "\n",
       "    .dataframe tbody tr th {\n",
       "        vertical-align: top;\n",
       "    }\n",
       "\n",
       "    .dataframe thead th {\n",
       "        text-align: right;\n",
       "    }\n",
       "</style>\n",
       "<table border=\"1\" class=\"dataframe\">\n",
       "  <thead>\n",
       "    <tr style=\"text-align: right;\">\n",
       "      <th></th>\n",
       "      <th>id</th>\n",
       "      <th>name</th>\n",
       "      <th>Ptot</th>\n",
       "      <th>Pulf</th>\n",
       "      <th>Pvlf</th>\n",
       "      <th>Plf</th>\n",
       "      <th>Phf</th>\n",
       "      <th>lfhf_ratio</th>\n",
       "      <th>scl</th>\n",
       "      <th>ci</th>\n",
       "      <th>cp</th>\n",
       "      <th>to</th>\n",
       "      <th>ts</th>\n",
       "      <th>to_average</th>\n",
       "      <th>ts_average</th>\n",
       "    </tr>\n",
       "  </thead>\n",
       "  <tbody>\n",
       "    <tr>\n",
       "      <th>0</th>\n",
       "      <td>1</td>\n",
       "      <td>MU_ES_PANDA_HOLTERALTA</td>\n",
       "      <td>1146.746674</td>\n",
       "      <td>0.0</td>\n",
       "      <td>372.167222</td>\n",
       "      <td>329.514015</td>\n",
       "      <td>445.065438</td>\n",
       "      <td>0.740372</td>\n",
       "      <td>1045.0</td>\n",
       "      <td>670.0</td>\n",
       "      <td>1425.0</td>\n",
       "      <td>-1.418440</td>\n",
       "      <td>7.0</td>\n",
       "      <td>-3.488372</td>\n",
       "      <td>15.250000</td>\n",
       "    </tr>\n",
       "    <tr>\n",
       "      <th>1</th>\n",
       "      <td>1</td>\n",
       "      <td>MU_ES_PANDA_HOLTERALTA</td>\n",
       "      <td>1390.984932</td>\n",
       "      <td>0.0</td>\n",
       "      <td>486.596715</td>\n",
       "      <td>434.261708</td>\n",
       "      <td>470.126509</td>\n",
       "      <td>0.923712</td>\n",
       "      <td>1078.0</td>\n",
       "      <td>575.0</td>\n",
       "      <td>1545.0</td>\n",
       "      <td>-5.491991</td>\n",
       "      <td>24.5</td>\n",
       "      <td>-3.488372</td>\n",
       "      <td>15.250000</td>\n",
       "    </tr>\n",
       "    <tr>\n",
       "      <th>2</th>\n",
       "      <td>2</td>\n",
       "      <td>MO_GA_PANDA_HOLTERALTA</td>\n",
       "      <td>1406.653670</td>\n",
       "      <td>0.0</td>\n",
       "      <td>884.931026</td>\n",
       "      <td>441.773174</td>\n",
       "      <td>79.949470</td>\n",
       "      <td>5.525655</td>\n",
       "      <td>766.0</td>\n",
       "      <td>485.0</td>\n",
       "      <td>1020.0</td>\n",
       "      <td>-0.653595</td>\n",
       "      <td>3.0</td>\n",
       "      <td>-0.653595</td>\n",
       "      <td>3.000000</td>\n",
       "    </tr>\n",
       "    <tr>\n",
       "      <th>3</th>\n",
       "      <td>3</td>\n",
       "      <td>AL_MA_PANDA_HOLTERALTA</td>\n",
       "      <td>329.135673</td>\n",
       "      <td>0.0</td>\n",
       "      <td>220.803095</td>\n",
       "      <td>84.774475</td>\n",
       "      <td>23.558104</td>\n",
       "      <td>3.598527</td>\n",
       "      <td>877.0</td>\n",
       "      <td>665.0</td>\n",
       "      <td>1100.0</td>\n",
       "      <td>-0.571429</td>\n",
       "      <td>5.5</td>\n",
       "      <td>-1.334365</td>\n",
       "      <td>3.306452</td>\n",
       "    </tr>\n",
       "    <tr>\n",
       "      <th>4</th>\n",
       "      <td>3</td>\n",
       "      <td>AL_MA_PANDA_HOLTERALTA</td>\n",
       "      <td>488.136692</td>\n",
       "      <td>0.0</td>\n",
       "      <td>327.904546</td>\n",
       "      <td>60.713874</td>\n",
       "      <td>99.518272</td>\n",
       "      <td>0.610078</td>\n",
       "      <td>925.0</td>\n",
       "      <td>540.0</td>\n",
       "      <td>1325.0</td>\n",
       "      <td>-2.179837</td>\n",
       "      <td>10.0</td>\n",
       "      <td>-1.334365</td>\n",
       "      <td>3.306452</td>\n",
       "    </tr>\n",
       "  </tbody>\n",
       "</table>\n",
       "</div>"
      ],
      "text/plain": [
       "  id                    name         Ptot  Pulf        Pvlf         Plf  \\\n",
       "0  1  MU_ES_PANDA_HOLTERALTA  1146.746674   0.0  372.167222  329.514015   \n",
       "1  1  MU_ES_PANDA_HOLTERALTA  1390.984932   0.0  486.596715  434.261708   \n",
       "2  2  MO_GA_PANDA_HOLTERALTA  1406.653670   0.0  884.931026  441.773174   \n",
       "3  3  AL_MA_PANDA_HOLTERALTA   329.135673   0.0  220.803095   84.774475   \n",
       "4  3  AL_MA_PANDA_HOLTERALTA   488.136692   0.0  327.904546   60.713874   \n",
       "\n",
       "          Phf  lfhf_ratio     scl     ci      cp        to    ts  to_average  \\\n",
       "0  445.065438    0.740372  1045.0  670.0  1425.0 -1.418440   7.0   -3.488372   \n",
       "1  470.126509    0.923712  1078.0  575.0  1545.0 -5.491991  24.5   -3.488372   \n",
       "2   79.949470    5.525655   766.0  485.0  1020.0 -0.653595   3.0   -0.653595   \n",
       "3   23.558104    3.598527   877.0  665.0  1100.0 -0.571429   5.5   -1.334365   \n",
       "4   99.518272    0.610078   925.0  540.0  1325.0 -2.179837  10.0   -1.334365   \n",
       "\n",
       "   ts_average  \n",
       "0   15.250000  \n",
       "1   15.250000  \n",
       "2    3.000000  \n",
       "3    3.306452  \n",
       "4    3.306452  "
      ]
     },
     "execution_count": 80,
     "metadata": {},
     "output_type": "execute_result"
    }
   ],
   "source": [
    "df.head()"
   ]
  },
  {
   "cell_type": "markdown",
   "metadata": {},
   "source": [
    "Obtenemos un resumen del dataframe. Una de las cosas que podemos apreciar es que tenemos 1095 datos."
   ]
  },
  {
   "cell_type": "code",
   "execution_count": 81,
   "metadata": {},
   "outputs": [
    {
     "data": {
      "text/html": [
       "<div>\n",
       "<style scoped>\n",
       "    .dataframe tbody tr th:only-of-type {\n",
       "        vertical-align: middle;\n",
       "    }\n",
       "\n",
       "    .dataframe tbody tr th {\n",
       "        vertical-align: top;\n",
       "    }\n",
       "\n",
       "    .dataframe thead th {\n",
       "        text-align: right;\n",
       "    }\n",
       "</style>\n",
       "<table border=\"1\" class=\"dataframe\">\n",
       "  <thead>\n",
       "    <tr style=\"text-align: right;\">\n",
       "      <th></th>\n",
       "      <th>Ptot</th>\n",
       "      <th>Pulf</th>\n",
       "      <th>Pvlf</th>\n",
       "      <th>Plf</th>\n",
       "      <th>Phf</th>\n",
       "      <th>lfhf_ratio</th>\n",
       "      <th>scl</th>\n",
       "      <th>ci</th>\n",
       "      <th>cp</th>\n",
       "      <th>to</th>\n",
       "      <th>ts</th>\n",
       "      <th>to_average</th>\n",
       "      <th>ts_average</th>\n",
       "    </tr>\n",
       "  </thead>\n",
       "  <tbody>\n",
       "    <tr>\n",
       "      <th>count</th>\n",
       "      <td>1095.000000</td>\n",
       "      <td>1095.0</td>\n",
       "      <td>1095.000000</td>\n",
       "      <td>1095.000000</td>\n",
       "      <td>1095.000000</td>\n",
       "      <td>1095.000000</td>\n",
       "      <td>1095.000000</td>\n",
       "      <td>1095.000000</td>\n",
       "      <td>1095.000000</td>\n",
       "      <td>1095.000000</td>\n",
       "      <td>1095.000000</td>\n",
       "      <td>1095.000000</td>\n",
       "      <td>1.095000e+03</td>\n",
       "    </tr>\n",
       "    <tr>\n",
       "      <th>mean</th>\n",
       "      <td>600.807910</td>\n",
       "      <td>0.0</td>\n",
       "      <td>328.301379</td>\n",
       "      <td>159.856204</td>\n",
       "      <td>112.650326</td>\n",
       "      <td>1.984460</td>\n",
       "      <td>806.200913</td>\n",
       "      <td>515.132420</td>\n",
       "      <td>1076.757991</td>\n",
       "      <td>-0.015463</td>\n",
       "      <td>5.922374</td>\n",
       "      <td>-0.047601</td>\n",
       "      <td>2.237174e+00</td>\n",
       "    </tr>\n",
       "    <tr>\n",
       "      <th>std</th>\n",
       "      <td>986.942581</td>\n",
       "      <td>0.0</td>\n",
       "      <td>626.616469</td>\n",
       "      <td>353.034813</td>\n",
       "      <td>203.313288</td>\n",
       "      <td>1.974418</td>\n",
       "      <td>193.464039</td>\n",
       "      <td>114.789394</td>\n",
       "      <td>262.045011</td>\n",
       "      <td>2.824430</td>\n",
       "      <td>7.409780</td>\n",
       "      <td>1.494994</td>\n",
       "      <td>4.258512e+00</td>\n",
       "    </tr>\n",
       "    <tr>\n",
       "      <th>min</th>\n",
       "      <td>15.463122</td>\n",
       "      <td>0.0</td>\n",
       "      <td>3.748211</td>\n",
       "      <td>2.241270</td>\n",
       "      <td>2.119333</td>\n",
       "      <td>0.067457</td>\n",
       "      <td>552.000000</td>\n",
       "      <td>350.000000</td>\n",
       "      <td>685.000000</td>\n",
       "      <td>-16.009852</td>\n",
       "      <td>-3.000000</td>\n",
       "      <td>-6.822612</td>\n",
       "      <td>7.334873e-14</td>\n",
       "    </tr>\n",
       "    <tr>\n",
       "      <th>25%</th>\n",
       "      <td>103.811240</td>\n",
       "      <td>0.0</td>\n",
       "      <td>35.102940</td>\n",
       "      <td>27.636129</td>\n",
       "      <td>20.693718</td>\n",
       "      <td>0.761669</td>\n",
       "      <td>631.000000</td>\n",
       "      <td>420.000000</td>\n",
       "      <td>837.500000</td>\n",
       "      <td>-0.868396</td>\n",
       "      <td>1.500000</td>\n",
       "      <td>0.015795</td>\n",
       "      <td>2.766180e-01</td>\n",
       "    </tr>\n",
       "    <tr>\n",
       "      <th>50%</th>\n",
       "      <td>236.795263</td>\n",
       "      <td>0.0</td>\n",
       "      <td>89.307800</td>\n",
       "      <td>64.009206</td>\n",
       "      <td>50.895632</td>\n",
       "      <td>1.305077</td>\n",
       "      <td>760.000000</td>\n",
       "      <td>470.000000</td>\n",
       "      <td>1045.000000</td>\n",
       "      <td>0.318471</td>\n",
       "      <td>3.500000</td>\n",
       "      <td>0.015795</td>\n",
       "      <td>1.211073e+00</td>\n",
       "    </tr>\n",
       "    <tr>\n",
       "      <th>75%</th>\n",
       "      <td>668.431868</td>\n",
       "      <td>0.0</td>\n",
       "      <td>342.545656</td>\n",
       "      <td>162.910956</td>\n",
       "      <td>120.291436</td>\n",
       "      <td>2.457399</td>\n",
       "      <td>958.000000</td>\n",
       "      <td>605.000000</td>\n",
       "      <td>1270.000000</td>\n",
       "      <td>1.147232</td>\n",
       "      <td>7.500000</td>\n",
       "      <td>0.742791</td>\n",
       "      <td>1.701031e+00</td>\n",
       "    </tr>\n",
       "    <tr>\n",
       "      <th>max</th>\n",
       "      <td>12361.876350</td>\n",
       "      <td>0.0</td>\n",
       "      <td>7416.877746</td>\n",
       "      <td>8322.833396</td>\n",
       "      <td>2418.907230</td>\n",
       "      <td>16.360677</td>\n",
       "      <td>1693.000000</td>\n",
       "      <td>915.000000</td>\n",
       "      <td>2130.000000</td>\n",
       "      <td>18.032787</td>\n",
       "      <td>65.000000</td>\n",
       "      <td>5.494505</td>\n",
       "      <td>2.340909e+01</td>\n",
       "    </tr>\n",
       "  </tbody>\n",
       "</table>\n",
       "</div>"
      ],
      "text/plain": [
       "               Ptot    Pulf         Pvlf          Plf          Phf  \\\n",
       "count   1095.000000  1095.0  1095.000000  1095.000000  1095.000000   \n",
       "mean     600.807910     0.0   328.301379   159.856204   112.650326   \n",
       "std      986.942581     0.0   626.616469   353.034813   203.313288   \n",
       "min       15.463122     0.0     3.748211     2.241270     2.119333   \n",
       "25%      103.811240     0.0    35.102940    27.636129    20.693718   \n",
       "50%      236.795263     0.0    89.307800    64.009206    50.895632   \n",
       "75%      668.431868     0.0   342.545656   162.910956   120.291436   \n",
       "max    12361.876350     0.0  7416.877746  8322.833396  2418.907230   \n",
       "\n",
       "        lfhf_ratio          scl           ci           cp           to  \\\n",
       "count  1095.000000  1095.000000  1095.000000  1095.000000  1095.000000   \n",
       "mean      1.984460   806.200913   515.132420  1076.757991    -0.015463   \n",
       "std       1.974418   193.464039   114.789394   262.045011     2.824430   \n",
       "min       0.067457   552.000000   350.000000   685.000000   -16.009852   \n",
       "25%       0.761669   631.000000   420.000000   837.500000    -0.868396   \n",
       "50%       1.305077   760.000000   470.000000  1045.000000     0.318471   \n",
       "75%       2.457399   958.000000   605.000000  1270.000000     1.147232   \n",
       "max      16.360677  1693.000000   915.000000  2130.000000    18.032787   \n",
       "\n",
       "                ts   to_average    ts_average  \n",
       "count  1095.000000  1095.000000  1.095000e+03  \n",
       "mean      5.922374    -0.047601  2.237174e+00  \n",
       "std       7.409780     1.494994  4.258512e+00  \n",
       "min      -3.000000    -6.822612  7.334873e-14  \n",
       "25%       1.500000     0.015795  2.766180e-01  \n",
       "50%       3.500000     0.015795  1.211073e+00  \n",
       "75%       7.500000     0.742791  1.701031e+00  \n",
       "max      65.000000     5.494505  2.340909e+01  "
      ]
     },
     "execution_count": 81,
     "metadata": {},
     "output_type": "execute_result"
    }
   ],
   "source": [
    "df.describe()"
   ]
  },
  {
   "cell_type": "markdown",
   "metadata": {},
   "source": [
    "### Estructura de la matriz\n",
    "\n",
    "Vamos a entender la estructura de la matriz de datos. Cada fila de la matriz corresponde la ocurrencia de un VPC-tachogram dentro de un Holter de 24 horas. Como estamos estudiando los VPC-tachogram aislados, podemos tener más de un VPC-tachogram que pertenezca al mismo paciente.\n",
    "\n",
    "Las columnas representan las características de cada VPC-tachogram individual:\n",
    " * *id* **Identificador de paciente**. Cada paciente en la base de datos tiene un identificador numérico. \n",
    " * *name* **Identificador de paciente - nombre**. Este es un identificador de paciente con iniciales. Lo vamos a eliminar por seguridad.\n",
    " * *Ptot* Potencia total de las señal de intervalos RR en los 3 minutos previos. Mide la potencia de la señal de variabilidad.\n",
    " * *Pulf* Potencia en la banda de *ultra low frequency*. Esta banda no tiene sentido en 3 minutos.\n",
    " * *Pvlf* Potencia en la banda de *very low frequency*.\n",
    " * *Plf* Potencia en la banda de *low frequency*.\n",
    " * *Phf* Potencia en la banda de *high frequency*.\n",
    " * *lfhf_ratio* Ratio de potencias lf/hf\n",
    " * *scl* **Sinus cardiac length** corresponde al promedio de los 3 intervalos RR previos al VPC. Mide el ritmo cardiaco al que se encuentra el paciente cuando se produce el VPC.\n",
    " * *ci* **Coupling interval** corresponde al intervalo RR del latido VPC.\n",
    " * *cp* **Compensatory Pause** corresponde a la pausa compensatoria, esto es, el intervalo RR justo des pués del VPC.\n",
    " * *to* **Turbulence Onset** corresponde al parámetro TO, calculado sobre el VPC-tachogram individual en cuestión.\n",
    " * *ts* **Turbulence Slope** corresponde al parámetro TS, calculado sobre el VPC-tachogram individual en cuestión.\n",
    " * *to_average* **Turbulence Onset** corresponde al parámetro TO, calculado sobre el VPC-tachogram promedio para el paciente. Debe ser igual para todos las filas de la matriz que correspondan a un mismo paciente.\n",
    " * *ts_average* **Turbulence Slope** corresponde al parámetro TS, calculado sobre el VPC-tachogram promedio para el paciente. Debe ser igual para todos las filas de la matriz que correspondan a un mismo paciente."
   ]
  },
  {
   "cell_type": "code",
   "execution_count": 82,
   "metadata": {
    "collapsed": true
   },
   "outputs": [],
   "source": [
    "#remove name col\n",
    "\n",
    "df.drop(labels = ['name'],axis = 1,inplace = True)"
   ]
  },
  {
   "cell_type": "code",
   "execution_count": 83,
   "metadata": {},
   "outputs": [
    {
     "data": {
      "text/html": [
       "<div>\n",
       "<style scoped>\n",
       "    .dataframe tbody tr th:only-of-type {\n",
       "        vertical-align: middle;\n",
       "    }\n",
       "\n",
       "    .dataframe tbody tr th {\n",
       "        vertical-align: top;\n",
       "    }\n",
       "\n",
       "    .dataframe thead th {\n",
       "        text-align: right;\n",
       "    }\n",
       "</style>\n",
       "<table border=\"1\" class=\"dataframe\">\n",
       "  <thead>\n",
       "    <tr style=\"text-align: right;\">\n",
       "      <th></th>\n",
       "      <th>Ptot</th>\n",
       "      <th>Pulf</th>\n",
       "      <th>Pvlf</th>\n",
       "      <th>Plf</th>\n",
       "      <th>Phf</th>\n",
       "      <th>lfhf_ratio</th>\n",
       "      <th>scl</th>\n",
       "      <th>ci</th>\n",
       "      <th>cp</th>\n",
       "      <th>to</th>\n",
       "      <th>ts</th>\n",
       "      <th>to_average</th>\n",
       "      <th>ts_average</th>\n",
       "    </tr>\n",
       "  </thead>\n",
       "  <tbody>\n",
       "    <tr>\n",
       "      <th>count</th>\n",
       "      <td>1095.000000</td>\n",
       "      <td>1095.0</td>\n",
       "      <td>1095.000000</td>\n",
       "      <td>1095.000000</td>\n",
       "      <td>1095.000000</td>\n",
       "      <td>1095.000000</td>\n",
       "      <td>1095.000000</td>\n",
       "      <td>1095.000000</td>\n",
       "      <td>1095.000000</td>\n",
       "      <td>1095.000000</td>\n",
       "      <td>1095.000000</td>\n",
       "      <td>1095.000000</td>\n",
       "      <td>1.095000e+03</td>\n",
       "    </tr>\n",
       "    <tr>\n",
       "      <th>mean</th>\n",
       "      <td>600.807910</td>\n",
       "      <td>0.0</td>\n",
       "      <td>328.301379</td>\n",
       "      <td>159.856204</td>\n",
       "      <td>112.650326</td>\n",
       "      <td>1.984460</td>\n",
       "      <td>806.200913</td>\n",
       "      <td>515.132420</td>\n",
       "      <td>1076.757991</td>\n",
       "      <td>-0.015463</td>\n",
       "      <td>5.922374</td>\n",
       "      <td>-0.047601</td>\n",
       "      <td>2.237174e+00</td>\n",
       "    </tr>\n",
       "    <tr>\n",
       "      <th>std</th>\n",
       "      <td>986.942581</td>\n",
       "      <td>0.0</td>\n",
       "      <td>626.616469</td>\n",
       "      <td>353.034813</td>\n",
       "      <td>203.313288</td>\n",
       "      <td>1.974418</td>\n",
       "      <td>193.464039</td>\n",
       "      <td>114.789394</td>\n",
       "      <td>262.045011</td>\n",
       "      <td>2.824430</td>\n",
       "      <td>7.409780</td>\n",
       "      <td>1.494994</td>\n",
       "      <td>4.258512e+00</td>\n",
       "    </tr>\n",
       "    <tr>\n",
       "      <th>min</th>\n",
       "      <td>15.463122</td>\n",
       "      <td>0.0</td>\n",
       "      <td>3.748211</td>\n",
       "      <td>2.241270</td>\n",
       "      <td>2.119333</td>\n",
       "      <td>0.067457</td>\n",
       "      <td>552.000000</td>\n",
       "      <td>350.000000</td>\n",
       "      <td>685.000000</td>\n",
       "      <td>-16.009852</td>\n",
       "      <td>-3.000000</td>\n",
       "      <td>-6.822612</td>\n",
       "      <td>7.334873e-14</td>\n",
       "    </tr>\n",
       "    <tr>\n",
       "      <th>25%</th>\n",
       "      <td>103.811240</td>\n",
       "      <td>0.0</td>\n",
       "      <td>35.102940</td>\n",
       "      <td>27.636129</td>\n",
       "      <td>20.693718</td>\n",
       "      <td>0.761669</td>\n",
       "      <td>631.000000</td>\n",
       "      <td>420.000000</td>\n",
       "      <td>837.500000</td>\n",
       "      <td>-0.868396</td>\n",
       "      <td>1.500000</td>\n",
       "      <td>0.015795</td>\n",
       "      <td>2.766180e-01</td>\n",
       "    </tr>\n",
       "    <tr>\n",
       "      <th>50%</th>\n",
       "      <td>236.795263</td>\n",
       "      <td>0.0</td>\n",
       "      <td>89.307800</td>\n",
       "      <td>64.009206</td>\n",
       "      <td>50.895632</td>\n",
       "      <td>1.305077</td>\n",
       "      <td>760.000000</td>\n",
       "      <td>470.000000</td>\n",
       "      <td>1045.000000</td>\n",
       "      <td>0.318471</td>\n",
       "      <td>3.500000</td>\n",
       "      <td>0.015795</td>\n",
       "      <td>1.211073e+00</td>\n",
       "    </tr>\n",
       "    <tr>\n",
       "      <th>75%</th>\n",
       "      <td>668.431868</td>\n",
       "      <td>0.0</td>\n",
       "      <td>342.545656</td>\n",
       "      <td>162.910956</td>\n",
       "      <td>120.291436</td>\n",
       "      <td>2.457399</td>\n",
       "      <td>958.000000</td>\n",
       "      <td>605.000000</td>\n",
       "      <td>1270.000000</td>\n",
       "      <td>1.147232</td>\n",
       "      <td>7.500000</td>\n",
       "      <td>0.742791</td>\n",
       "      <td>1.701031e+00</td>\n",
       "    </tr>\n",
       "    <tr>\n",
       "      <th>max</th>\n",
       "      <td>12361.876350</td>\n",
       "      <td>0.0</td>\n",
       "      <td>7416.877746</td>\n",
       "      <td>8322.833396</td>\n",
       "      <td>2418.907230</td>\n",
       "      <td>16.360677</td>\n",
       "      <td>1693.000000</td>\n",
       "      <td>915.000000</td>\n",
       "      <td>2130.000000</td>\n",
       "      <td>18.032787</td>\n",
       "      <td>65.000000</td>\n",
       "      <td>5.494505</td>\n",
       "      <td>2.340909e+01</td>\n",
       "    </tr>\n",
       "  </tbody>\n",
       "</table>\n",
       "</div>"
      ],
      "text/plain": [
       "               Ptot    Pulf         Pvlf          Plf          Phf  \\\n",
       "count   1095.000000  1095.0  1095.000000  1095.000000  1095.000000   \n",
       "mean     600.807910     0.0   328.301379   159.856204   112.650326   \n",
       "std      986.942581     0.0   626.616469   353.034813   203.313288   \n",
       "min       15.463122     0.0     3.748211     2.241270     2.119333   \n",
       "25%      103.811240     0.0    35.102940    27.636129    20.693718   \n",
       "50%      236.795263     0.0    89.307800    64.009206    50.895632   \n",
       "75%      668.431868     0.0   342.545656   162.910956   120.291436   \n",
       "max    12361.876350     0.0  7416.877746  8322.833396  2418.907230   \n",
       "\n",
       "        lfhf_ratio          scl           ci           cp           to  \\\n",
       "count  1095.000000  1095.000000  1095.000000  1095.000000  1095.000000   \n",
       "mean      1.984460   806.200913   515.132420  1076.757991    -0.015463   \n",
       "std       1.974418   193.464039   114.789394   262.045011     2.824430   \n",
       "min       0.067457   552.000000   350.000000   685.000000   -16.009852   \n",
       "25%       0.761669   631.000000   420.000000   837.500000    -0.868396   \n",
       "50%       1.305077   760.000000   470.000000  1045.000000     0.318471   \n",
       "75%       2.457399   958.000000   605.000000  1270.000000     1.147232   \n",
       "max      16.360677  1693.000000   915.000000  2130.000000    18.032787   \n",
       "\n",
       "                ts   to_average    ts_average  \n",
       "count  1095.000000  1095.000000  1.095000e+03  \n",
       "mean      5.922374    -0.047601  2.237174e+00  \n",
       "std       7.409780     1.494994  4.258512e+00  \n",
       "min      -3.000000    -6.822612  7.334873e-14  \n",
       "25%       1.500000     0.015795  2.766180e-01  \n",
       "50%       3.500000     0.015795  1.211073e+00  \n",
       "75%       7.500000     0.742791  1.701031e+00  \n",
       "max      65.000000     5.494505  2.340909e+01  "
      ]
     },
     "execution_count": 83,
     "metadata": {},
     "output_type": "execute_result"
    }
   ],
   "source": [
    "df.describe()"
   ]
  },
  {
   "cell_type": "markdown",
   "metadata": {},
   "source": [
    "## Análisis exploratorio de cada una de las variables\n",
    "\n",
    "En primer lugar vamos a realizar un pequeño análisis de cada una de las variables por separado. De esta forma, tendremos una idea de cuál es la distribución de valores de los diferentes parámetros.\n",
    "\n",
    "#### Distribución de Ptot"
   ]
  },
  {
   "cell_type": "code",
   "execution_count": 84,
   "metadata": {},
   "outputs": [
    {
     "data": {
      "text/plain": [
       "array([[<matplotlib.axes._subplots.AxesSubplot object at 0x11db47310>]], dtype=object)"
      ]
     },
     "execution_count": 84,
     "metadata": {},
     "output_type": "execute_result"
    },
    {
     "data": {
      "image/png": "[encoded data removed]",
      "text/plain": [
       "<matplotlib.figure.Figure at 0x11f1337d0>"
      ]
     },
     "metadata": {},
     "output_type": "display_data"
    }
   ],
   "source": [
    "#Pintamos el histograma\n",
    "\n",
    "df[df['Ptot']<2000].hist(column = 'Ptot',bins = 50)"
   ]
  },
  {
   "cell_type": "markdown",
   "metadata": {},
   "source": [
    "#### Distribución de Pvlf\n"
   ]
  },
  {
   "cell_type": "code",
   "execution_count": 85,
   "metadata": {},
   "outputs": [
    {
     "data": {
      "text/plain": [
       "array([[<matplotlib.axes._subplots.AxesSubplot object at 0x11ec03e10>]], dtype=object)"
      ]
     },
     "execution_count": 85,
     "metadata": {},
     "output_type": "execute_result"
    },
    {
     "data": {
      "image/png": "[encoded data removed]",
      "text/plain": [
       "<matplotlib.figure.Figure at 0x11f1c9610>"
      ]
     },
     "metadata": {},
     "output_type": "display_data"
    }
   ],
   "source": [
    "df.hist(column = 'Pvlf',bins = 50)"
   ]
  },
  {
   "cell_type": "markdown",
   "metadata": {},
   "source": [
    "## TO DO\n",
    "\n",
    "Repetir los gráficos para cada una de las variables. Hacer algún comentario sobre cada una de ellas"
   ]
  },
  {
   "cell_type": "code",
   "execution_count": 86,
   "metadata": {},
   "outputs": [
    {
     "data": {
      "text/plain": [
       "array([[<matplotlib.axes._subplots.AxesSubplot object at 0x11e4707d0>]], dtype=object)"
      ]
     },
     "execution_count": 86,
     "metadata": {},
     "output_type": "execute_result"
    },
    {
     "data": {
      "image/png": "[encoded data removed]",
      "text/plain": [
       "<matplotlib.figure.Figure at 0x11e07af10>"
      ]
     },
     "metadata": {},
     "output_type": "display_data"
    }
   ],
   "source": [
    "df.hist(column = 'Pulf')"
   ]
  },
  {
   "cell_type": "markdown",
   "metadata": {},
   "source": [
    "Aquí hay que notar que todos los valores son 0. Esto tiene sentido, pues es banda carece de esentido en un segemento de intervalos RR de duración 3 minutos."
   ]
  },
  {
   "cell_type": "markdown",
   "metadata": {},
   "source": [
    "#### Potencia en banda LF"
   ]
  },
  {
   "cell_type": "code",
   "execution_count": 87,
   "metadata": {},
   "outputs": [
    {
     "data": {
      "text/plain": [
       "array([[<matplotlib.axes._subplots.AxesSubplot object at 0x11e56e410>]], dtype=object)"
      ]
     },
     "execution_count": 87,
     "metadata": {},
     "output_type": "execute_result"
    },
    {
     "data": {
      "image/png": "[encoded data removed]",
      "text/plain": [
       "<matplotlib.figure.Figure at 0x11e0ac0d0>"
      ]
     },
     "metadata": {},
     "output_type": "display_data"
    }
   ],
   "source": [
    "df.hist(column = 'Plf',bins =100)"
   ]
  },
  {
   "cell_type": "markdown",
   "metadata": {},
   "source": [
    "#### Potencia en banda HF"
   ]
  },
  {
   "cell_type": "code",
   "execution_count": 88,
   "metadata": {},
   "outputs": [
    {
     "data": {
      "text/plain": [
       "array([[<matplotlib.axes._subplots.AxesSubplot object at 0x11e49ed10>]], dtype=object)"
      ]
     },
     "execution_count": 88,
     "metadata": {},
     "output_type": "execute_result"
    },
    {
     "data": {
      "image/png": "[encoded data removed]",
      "text/plain": [
       "<matplotlib.figure.Figure at 0x11db29510>"
      ]
     },
     "metadata": {},
     "output_type": "display_data"
    }
   ],
   "source": [
    "df.hist(column = 'Phf')"
   ]
  },
  {
   "cell_type": "markdown",
   "metadata": {},
   "source": [
    "#### Ratio LF/HF"
   ]
  },
  {
   "cell_type": "code",
   "execution_count": 89,
   "metadata": {},
   "outputs": [
    {
     "data": {
      "text/plain": [
       "array([[<matplotlib.axes._subplots.AxesSubplot object at 0x11dfe1d10>]], dtype=object)"
      ]
     },
     "execution_count": 89,
     "metadata": {},
     "output_type": "execute_result"
    },
    {
     "data": {
      "image/png": "[encoded data removed]",
      "text/plain": [
       "<matplotlib.figure.Figure at 0x11f037c10>"
      ]
     },
     "metadata": {},
     "output_type": "display_data"
    }
   ],
   "source": [
    "df.hist(column = 'lfhf_ratio')"
   ]
  },
  {
   "cell_type": "markdown",
   "metadata": {},
   "source": [
    "#### SCL antes del VPC"
   ]
  },
  {
   "cell_type": "code",
   "execution_count": 90,
   "metadata": {},
   "outputs": [
    {
     "data": {
      "text/plain": [
       "array([[<matplotlib.axes._subplots.AxesSubplot object at 0x11f4d8d10>]], dtype=object)"
      ]
     },
     "execution_count": 90,
     "metadata": {},
     "output_type": "execute_result"
    },
    {
     "data": {
      "image/png": "[encoded data removed]",
      "text/plain": [
       "<matplotlib.figure.Figure at 0x11f611850>"
      ]
     },
     "metadata": {},
     "output_type": "display_data"
    }
   ],
   "source": [
    "df.hist(column = 'scl')"
   ]
  },
  {
   "cell_type": "markdown",
   "metadata": {},
   "source": [
    "#### Copuling Interval del VPC"
   ]
  },
  {
   "cell_type": "code",
   "execution_count": 91,
   "metadata": {},
   "outputs": [
    {
     "data": {
      "text/plain": [
       "array([[<matplotlib.axes._subplots.AxesSubplot object at 0x11f7a7050>]], dtype=object)"
      ]
     },
     "execution_count": 91,
     "metadata": {},
     "output_type": "execute_result"
    },
    {
     "data": {
      "image/png": "[encoded data removed]",
      "text/plain": [
       "<matplotlib.figure.Figure at 0x11f7c54d0>"
      ]
     },
     "metadata": {},
     "output_type": "display_data"
    }
   ],
   "source": [
    "df.hist(column = 'ci')"
   ]
  },
  {
   "cell_type": "markdown",
   "metadata": {},
   "source": [
    "#### Pause Compentasory after VPC"
   ]
  },
  {
   "cell_type": "code",
   "execution_count": 92,
   "metadata": {},
   "outputs": [
    {
     "data": {
      "text/plain": [
       "array([[<matplotlib.axes._subplots.AxesSubplot object at 0x11f8c1510>]], dtype=object)"
      ]
     },
     "execution_count": 92,
     "metadata": {},
     "output_type": "execute_result"
    },
    {
     "data": {
      "image/png": "[encoded data removed]",
      "text/plain": [
       "<matplotlib.figure.Figure at 0x11f957310>"
      ]
     },
     "metadata": {},
     "output_type": "display_data"
    }
   ],
   "source": [
    "df.hist(column = 'cp')"
   ]
  },
  {
   "cell_type": "markdown",
   "metadata": {},
   "source": [
    "#### TS and TO for isolated VPC-tchograms"
   ]
  },
  {
   "cell_type": "code",
   "execution_count": 93,
   "metadata": {},
   "outputs": [
    {
     "data": {
      "text/plain": [
       "array([[<matplotlib.axes._subplots.AxesSubplot object at 0x11fbd3990>]], dtype=object)"
      ]
     },
     "execution_count": 93,
     "metadata": {},
     "output_type": "execute_result"
    },
    {
     "data": {
      "image/png": "[encoded data removed]",
      "text/plain": [
       "<matplotlib.figure.Figure at 0x11fa4b690>"
      ]
     },
     "metadata": {},
     "output_type": "display_data"
    },
    {
     "data": {
      "image/png": "[encoded data removed]",
      "text/plain": [
       "<matplotlib.figure.Figure at 0x11fa74e10>"
      ]
     },
     "metadata": {},
     "output_type": "display_data"
    }
   ],
   "source": [
    "df.hist(column = 'to')\n",
    "df.hist(column = 'ts')"
   ]
  },
  {
   "cell_type": "markdown",
   "metadata": {},
   "source": [
    "#### Average TS and TO, per patient"
   ]
  },
  {
   "cell_type": "code",
   "execution_count": 94,
   "metadata": {},
   "outputs": [
    {
     "data": {
      "text/plain": [
       "array([[<matplotlib.axes._subplots.AxesSubplot object at 0x11fecf290>]], dtype=object)"
      ]
     },
     "execution_count": 94,
     "metadata": {},
     "output_type": "execute_result"
    },
    {
     "data": {
      "image/png": "[encoded data removed]",
      "text/plain": [
       "<matplotlib.figure.Figure at 0x11fa605d0>"
      ]
     },
     "metadata": {},
     "output_type": "display_data"
    },
    {
     "data": {
      "image/png": "[encoded data removed]",
      "text/plain": [
       "<matplotlib.figure.Figure at 0x11fd4bd10>"
      ]
     },
     "metadata": {},
     "output_type": "display_data"
    }
   ],
   "source": [
    "df.hist(column = 'to_average')\n",
    "df.hist(column = 'ts_average')"
   ]
  },
  {
   "cell_type": "markdown",
   "metadata": {},
   "source": [
    "### REFLEXIONES SOBRE LOS HISTOGRAMAS\n",
    "\n",
    "Hay una cosa que me ha llamado mucho la atención al ver los histogramas. Tiene que ver con el hecho de que no se ve casi nada en los histogramas de las potencias. Da la impresión de que tenemos un montón de muestras con un valor muy pequeño, y muy pocas con valores muy grandes. Esto hace que la pinta de los histogramas sea como exponencial. \n",
    "\n",
    "Me gustaría comprobar si esto se soluciona aplicando una transformación logarítmica a estos valores. Aquí vamos a tenes problemas con los valores que sean 0. Por eso, descartamos ya la variable PUlf. En las restantes no debería haber valores de 0, salvo error. Vamos a representar lo que ocurre cuando transofrmamos. Esto debería resultar en un histograma más \"gaussiano\". Esto nos va a permitir luego entender mejor los resultados. \n",
    "\n",
    "Realizo yo la transformación para una de las variables, haz el resto. **Ojo: sólo para las de la potencia (excepto ulf)**."
   ]
  },
  {
   "cell_type": "markdown",
   "metadata": {},
   "source": [
    "#### Transformación logarítmica de variables de potencia: Plf"
   ]
  },
  {
   "cell_type": "code",
   "execution_count": 95,
   "metadata": {
    "collapsed": true
   },
   "outputs": [],
   "source": [
    "#con este comando se aplica la función np.log a la variable Plf y la guardamos en una nueva variable con el nombre Plf_log\n",
    "\n",
    "df['Plf_log'] = df['Plf'].apply(np.log)"
   ]
  },
  {
   "cell_type": "code",
   "execution_count": 97,
   "metadata": {},
   "outputs": [
    {
     "data": {
      "text/plain": [
       "array([[<matplotlib.axes._subplots.AxesSubplot object at 0x11ff78490>]], dtype=object)"
      ]
     },
     "execution_count": 97,
     "metadata": {},
     "output_type": "execute_result"
    },
    {
     "data": {
      "image/png": "[encoded data removed]",
      "text/plain": [
       "<matplotlib.figure.Figure at 0x11ff6add0>"
      ]
     },
     "metadata": {},
     "output_type": "display_data"
    }
   ],
   "source": [
    "df.hist(column='Plf_log',bins = 50)"
   ]
  },
  {
   "cell_type": "markdown",
   "metadata": {},
   "source": [
    "## TO DO: realizar las transformaciones de las variables y representar"
   ]
  },
  {
   "cell_type": "code",
   "execution_count": 130,
   "metadata": {},
   "outputs": [
    {
     "name": "stdout",
     "output_type": "stream",
     "text": [
      "1095\n",
      "135\n"
     ]
    },
    {
     "data": {
      "text/html": [
       "<div>\n",
       "<style scoped>\n",
       "    .dataframe tbody tr th:only-of-type {\n",
       "        vertical-align: middle;\n",
       "    }\n",
       "\n",
       "    .dataframe tbody tr th {\n",
       "        vertical-align: top;\n",
       "    }\n",
       "\n",
       "    .dataframe thead th {\n",
       "        text-align: right;\n",
       "    }\n",
       "</style>\n",
       "<table border=\"1\" class=\"dataframe\">\n",
       "  <thead>\n",
       "    <tr style=\"text-align: right;\">\n",
       "      <th></th>\n",
       "      <th>id</th>\n",
       "      <th>Ptot</th>\n",
       "      <th>Pulf</th>\n",
       "      <th>Pvlf</th>\n",
       "      <th>Plf</th>\n",
       "      <th>Phf</th>\n",
       "      <th>lfhf_ratio</th>\n",
       "      <th>scl</th>\n",
       "      <th>ci</th>\n",
       "      <th>cp</th>\n",
       "      <th>to</th>\n",
       "      <th>ts</th>\n",
       "      <th>to_average</th>\n",
       "      <th>ts_average</th>\n",
       "      <th>Plf_log</th>\n",
       "      <th>low_risk</th>\n",
       "    </tr>\n",
       "  </thead>\n",
       "  <tbody>\n",
       "    <tr>\n",
       "      <th>0</th>\n",
       "      <td>1</td>\n",
       "      <td>1146.746674</td>\n",
       "      <td>0.0</td>\n",
       "      <td>372.167222</td>\n",
       "      <td>329.514015</td>\n",
       "      <td>445.065438</td>\n",
       "      <td>0.740372</td>\n",
       "      <td>1045.0</td>\n",
       "      <td>670.0</td>\n",
       "      <td>1425.0</td>\n",
       "      <td>-1.418440</td>\n",
       "      <td>7.0</td>\n",
       "      <td>-3.488372</td>\n",
       "      <td>15.250000</td>\n",
       "      <td>5.797619</td>\n",
       "      <td>1.0</td>\n",
       "    </tr>\n",
       "    <tr>\n",
       "      <th>1</th>\n",
       "      <td>1</td>\n",
       "      <td>1390.984932</td>\n",
       "      <td>0.0</td>\n",
       "      <td>486.596715</td>\n",
       "      <td>434.261708</td>\n",
       "      <td>470.126509</td>\n",
       "      <td>0.923712</td>\n",
       "      <td>1078.0</td>\n",
       "      <td>575.0</td>\n",
       "      <td>1545.0</td>\n",
       "      <td>-5.491991</td>\n",
       "      <td>24.5</td>\n",
       "      <td>-3.488372</td>\n",
       "      <td>15.250000</td>\n",
       "      <td>6.073647</td>\n",
       "      <td>1.0</td>\n",
       "    </tr>\n",
       "    <tr>\n",
       "      <th>2</th>\n",
       "      <td>2</td>\n",
       "      <td>1406.653670</td>\n",
       "      <td>0.0</td>\n",
       "      <td>884.931026</td>\n",
       "      <td>441.773174</td>\n",
       "      <td>79.949470</td>\n",
       "      <td>5.525655</td>\n",
       "      <td>766.0</td>\n",
       "      <td>485.0</td>\n",
       "      <td>1020.0</td>\n",
       "      <td>-0.653595</td>\n",
       "      <td>3.0</td>\n",
       "      <td>-0.653595</td>\n",
       "      <td>3.000000</td>\n",
       "      <td>6.090797</td>\n",
       "      <td>1.0</td>\n",
       "    </tr>\n",
       "    <tr>\n",
       "      <th>3</th>\n",
       "      <td>3</td>\n",
       "      <td>329.135673</td>\n",
       "      <td>0.0</td>\n",
       "      <td>220.803095</td>\n",
       "      <td>84.774475</td>\n",
       "      <td>23.558104</td>\n",
       "      <td>3.598527</td>\n",
       "      <td>877.0</td>\n",
       "      <td>665.0</td>\n",
       "      <td>1100.0</td>\n",
       "      <td>-0.571429</td>\n",
       "      <td>5.5</td>\n",
       "      <td>-1.334365</td>\n",
       "      <td>3.306452</td>\n",
       "      <td>4.439994</td>\n",
       "      <td>1.0</td>\n",
       "    </tr>\n",
       "    <tr>\n",
       "      <th>4</th>\n",
       "      <td>3</td>\n",
       "      <td>488.136692</td>\n",
       "      <td>0.0</td>\n",
       "      <td>327.904546</td>\n",
       "      <td>60.713874</td>\n",
       "      <td>99.518272</td>\n",
       "      <td>0.610078</td>\n",
       "      <td>925.0</td>\n",
       "      <td>540.0</td>\n",
       "      <td>1325.0</td>\n",
       "      <td>-2.179837</td>\n",
       "      <td>10.0</td>\n",
       "      <td>-1.334365</td>\n",
       "      <td>3.306452</td>\n",
       "      <td>4.106172</td>\n",
       "      <td>1.0</td>\n",
       "    </tr>\n",
       "  </tbody>\n",
       "</table>\n",
       "</div>"
      ],
      "text/plain": [
       "  id         Ptot  Pulf        Pvlf         Plf         Phf  lfhf_ratio  \\\n",
       "0  1  1146.746674   0.0  372.167222  329.514015  445.065438    0.740372   \n",
       "1  1  1390.984932   0.0  486.596715  434.261708  470.126509    0.923712   \n",
       "2  2  1406.653670   0.0  884.931026  441.773174   79.949470    5.525655   \n",
       "3  3   329.135673   0.0  220.803095   84.774475   23.558104    3.598527   \n",
       "4  3   488.136692   0.0  327.904546   60.713874   99.518272    0.610078   \n",
       "\n",
       "      scl     ci      cp        to    ts  to_average  ts_average   Plf_log  \\\n",
       "0  1045.0  670.0  1425.0 -1.418440   7.0   -3.488372   15.250000  5.797619   \n",
       "1  1078.0  575.0  1545.0 -5.491991  24.5   -3.488372   15.250000  6.073647   \n",
       "2   766.0  485.0  1020.0 -0.653595   3.0   -0.653595    3.000000  6.090797   \n",
       "3   877.0  665.0  1100.0 -0.571429   5.5   -1.334365    3.306452  4.439994   \n",
       "4   925.0  540.0  1325.0 -2.179837  10.0   -1.334365    3.306452  4.106172   \n",
       "\n",
       "   low_risk  \n",
       "0       1.0  \n",
       "1       1.0  \n",
       "2       1.0  \n",
       "3       1.0  \n",
       "4       1.0  "
      ]
     },
     "execution_count": 130,
     "metadata": {},
     "output_type": "execute_result"
    }
   ],
   "source": [
    "#creamos la variable low_risk, que será 1 si el VPC-tachogram pertenece a un pat de low risk\n",
    "# será 0 si pertenece a uno de high risk y será NaN si no pertenece ni a uno ni a otro\n",
    "df['low_risk'] = np.NaN\n",
    "\n",
    "print(np.sum(df['low_risk'].isna()))\n",
    "\n",
    "df.head()\n",
    "\n",
    "#asiganmos 1 a los VPC-tachograms de pats que cumplan ts_a >2.5 & to_a < 0\n",
    "\n",
    "df.loc[(df['ts_average']>2.5) & (df['to_average']<0),'low_risk'] = 1\n",
    "\n",
    "#asiganmos 0 a los VPC-tachograms de pats que cumplan ts_a <2.5 & to_a > 0\n",
    "df.loc[(df['ts_average']<2.5) & (df['to_average']>0),'low_risk'] = 0\n",
    "\n",
    "\n",
    "print(np.sum(df['low_risk'].isna()))\n",
    "\n",
    "df.head()"
   ]
  },
  {
   "cell_type": "markdown",
   "metadata": {},
   "source": [
    "## TO_DO: boxplots de todas las variables (con log y sin log). Menos Pulf (descartada ya) y to y ts.\n",
    "\n",
    "A partir de ahora $to$ y $ts$ van a ser nuestras variables respuesta, por lo que vamos a intentar relacionar todas las otras variables con estas. "
   ]
  },
  {
   "cell_type": "code",
   "execution_count": null,
   "metadata": {
    "collapsed": true
   },
   "outputs": [],
   "source": []
  }
 ],
 "metadata": {
  "kernelspec": {
   "display_name": "Python 2",
   "language": "python",
   "name": "python2"
  },
  "language_info": {
   "codemirror_mode": {
    "name": "ipython",
    "version": 2
   },
   "file_extension": ".py",
   "mimetype": "text/x-python",
   "name": "python",
   "nbconvert_exporter": "python",
   "pygments_lexer": "ipython2",
   "version": "2.7.13"
  }
 },
 "nbformat": 4,
 "nbformat_minor": 2
}
